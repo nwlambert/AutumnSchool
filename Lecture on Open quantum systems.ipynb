{
 "cells": [
  {
   "cell_type": "markdown",
   "metadata": {
    "slideshow": {
     "slide_type": "slide"
    }
   },
   "source": [
    "# Open Quantum Systems: from qubits to quantum biology\n"
   ]
  },
  {
   "cell_type": "markdown",
   "metadata": {
    "slideshow": {
     "slide_type": "fragment"
    }
   },
   "source": [
    "###  Part 2:\n",
    "\t\n",
    "Deriving approximate noise models: Lindblad master equation\n",
    "\n",
    "Non-perturbative methods: HEOM, pseudo-modes and reaction coordinates\n"
   ]
  },
  {
   "cell_type": "markdown",
   "metadata": {
    "slideshow": {
     "slide_type": "slide"
    }
   },
   "source": [
    "\n",
    "\n",
    "# Outline:\n",
    "\n",
    "## Deriving approximate noise models: Lindblad master equation\n",
    "\n",
    "- Recap Motivation: The need to model noise in quantum computing and quantum biology\n"
   ]
  },
  {
   "cell_type": "markdown",
   "metadata": {
    "slideshow": {
     "slide_type": "fragment"
    }
   },
   "source": [
    "\n",
    "- Modelling noise: The Lindblad Master equation; a derivation, and how to evaluate using QuTiP\n",
    "\n",
    "- FMO example\n",
    "    \n"
   ]
  },
  {
   "cell_type": "markdown",
   "metadata": {
    "slideshow": {
     "slide_type": "slide"
    }
   },
   "source": [
    "    \n",
    "## Non-perturbative methods: HEOM, pseudo-modes and reaction coordinates\n",
    "\n",
    "\n",
    "- Beyond the Master Equation: Exact numerical methods for bosonic baths\n",
    "\n",
    "    - The Hierarchy Equations of Motion\n",
    "    - The reaction coordinate\n",
    "    - Pseudo-modes\n",
    "\n",
    "- Comparing different methods\n",
    "- Evaluating efficiency\n",
    "- Conclusions "
   ]
  },
  {
   "cell_type": "markdown",
   "metadata": {
    "collapsed": true,
    "slideshow": {
     "slide_type": "slide"
    }
   },
   "source": [
    "## Motivation recap"
   ]
  },
  {
   "cell_type": "markdown",
   "metadata": {
    "slideshow": {
     "slide_type": "fragment"
    }
   },
   "source": [
    "Every quantum system inevitably interacts with its environment.  \n",
    "\n",
    "In general, it is impossible for us to model the whole dynamics of the system and environment.\n",
    "\n",
    "So the goal of the theory of open quantum systems is to construct minimal solvable models and methods which account for the influence of the environment on the system.\n",
    "\n",
    "<center>\n",
    "\n",
    "<img src=\"sys-env.png\" height=\"400\" width=\"400\"/>\n",
    "</center>"
   ]
  },
  {
   "cell_type": "markdown",
   "metadata": {
    "collapsed": true,
    "slideshow": {
     "slide_type": "slide"
    }
   },
   "source": [
    "\n",
    "# The motivation for the study of open quantum systems arises from:\n",
    "\n",
    "1. **Describing real experiments** involving quantum degrees of freedom in contact with an environment, and real measurements, e.g.,\n",
    "\n",
    "2. Understanding how the classical world arises from the quantum one.\n",
    "\n",
    "3. Often we want to preserve quantum effects (quantum computation). Noise models are important for error correction, etc.\n",
    "\n",
    "\n"
   ]
  },
  {
   "cell_type": "markdown",
   "metadata": {
    "slideshow": {
     "slide_type": "slide"
    }
   },
   "source": [
    "## Quantum optics\n",
    "\n",
    "Many of the tools we use in open-quantum systems were developed to descibe interactions between atoms and light in cavities, as typified by the experiments of Serge Haroche (Nobel Prize in Physics 2012)\n",
    "\n",
    "A | B\n",
    "- | - \n",
    "![alt](QED.png) | ![alt](brume.png)\n",
    "\n",
    "Brune et al, 1996."
   ]
  },
  {
   "cell_type": "markdown",
   "metadata": {
    "slideshow": {
     "slide_type": "slide"
    }
   },
   "source": [
    "## Quantum computing & quantum technologies\n",
    "\n",
    "Artificial atoms are now used as the basis of quantum technologies, but are also subject to various noise sources.\n",
    "\n",
    "A | B\n",
    "- | - \n",
    "![alt](nakamura.jpg) | ![alt](ibm.jpg)\n",
    "\n",
    "\n",
    "First observation of coherent oscillations: Nakamura, Pashkin, Tsai (NEC) 1999\n",
    "Basis of modern quantum computing schemes (Photo from IBM)"
   ]
  },
  {
   "cell_type": "markdown",
   "metadata": {
    "slideshow": {
     "slide_type": "slide"
    }
   },
   "source": [
    "\n",
    "\n",
    "## Photosynthetic light-harvesting\n",
    "10 years ago similar apparent \"coherent oscillations\" were obseved in experiments on the Fenna-Matthews-Olsen complex from green sulphur bacteria (Nature Physics, Engel et al. 2007)\n",
    "\n",
    "A | B\n",
    "- | - \n",
    "<img src=\"fmo.png\" width=\"600\" height=\"600\" />| <img src=\"fmoexperiment.png\" width=\"600\" height=\"600\" />\n",
    "\n",
    "\n",
    "\n",
    "\n",
    "Panitchayangkoon et al. PNAS (2010).\n",
    "\n",
    "Does this mean quantum coherence is important for light-harvesting?  "
   ]
  },
  {
   "cell_type": "markdown",
   "metadata": {
    "slideshow": {
     "slide_type": "skip"
    }
   },
   "source": [
    "Here we will try to:\n",
    "\n",
    "1) Explain, with a simple example, how we can (minimally) model the features of ''electronic coherence''.\n",
    "\n",
    "2) How noise from the environment can be taken into account with various degrees of accuracy.\n",
    "\n",
    "3) Argue that a \"quantum noise\" model is neccessary in this case, and how coherence and noise optimize effiency of light-harvesting.\n",
    "\n",
    "4) Simultaneously, show everyone how to use QuTiP (Quantum Toolbox in Python)"
   ]
  },
  {
   "cell_type": "markdown",
   "metadata": {
    "slideshow": {
     "slide_type": "slide"
    }
   },
   "source": [
    "## A basic model of photosynthetic light-harvesting\n",
    "How do we make a (very) minimal model of a single excitation being transported through the complex?  Lets focus on just two sites  (chromophores)\n",
    "\n",
    "<center>\n",
    "<img src=\"simple2.png\"/>    \n",
    "\n",
    "</center>\n",
    "\n",
    "We write the states as either both chromophores unexcited, or an electronic excitation on either chromophore.\n",
    "\n",
    "We ignore double excitation."
   ]
  },
  {
   "cell_type": "markdown",
   "metadata": {
    "slideshow": {
     "slide_type": "slide"
    }
   },
   "source": [
    "If we focus on a single excitation subspace (let us ignore the ground-state), we can  just describe the two molecules as an effective spin:\n",
    "\n",
    "<center>\n",
    "<img src=\"simple3.png\"/>    \n",
    "</center>\n",
    "We can write the energy  of these two levels in the form of a Hamiltonian, using the Pauli spin matrix:\n",
    "<br>\n",
    "<br>\n",
    "<center> $H_E = \\frac{\\epsilon}{2}\\sigma_z$, $\\quad$ $\\sigma_{z} = \\begin{pmatrix} 1 & 0 \\\\ 0 & -1 \\end{pmatrix}$ </center>\n",
    "<br>\n",
    "<br>\n",
    "\n",
    "<center> $\\sigma_z = |X_1, 0_2 \\rangle \\langle X_1,0_2| -|0_1,X_2\\rangle \\langle 0_1,X_2|$ </center>\n",
    "\n",
    "Of course, this is the same mathematical description we use for a qubit in quantum computing"
   ]
  },
  {
   "cell_type": "markdown",
   "metadata": {
    "slideshow": {
     "slide_type": "slide"
    }
   },
   "source": [
    "## What about coupling between molecules?\n",
    "\n",
    "There is typically a dipole coupling between nearby chromophores.  This is a dipole energy coupling:\n",
    "<center>    \n",
    "<img src=\"simple4.png\"/>    \n",
    "</center>"
   ]
  },
  {
   "cell_type": "markdown",
   "metadata": {
    "slideshow": {
     "slide_type": "slide"
    }
   },
   "source": [
    "In the single-excitation subspace, we can again ignore the ground state, and write\n",
    "<center>\n",
    "<img src=\"simple5.png\">\n",
    "</center>\n",
    "\n",
    "<br>\n",
    "<br>\n",
    "<center> $H_{D} = \\frac{\\Delta}{2}\\sigma_x$</center>\n",
    "<br>\n",
    "\n",
    "<center> $\\sigma_x = |X_1, 0_2 \\rangle \\langle 0_1,X_2| + |0_1,X_2\\rangle \\langle X_1,0_2|$, $\\quad$ $\\sigma_{x} = \\begin{pmatrix} 0 & 1 \\\\ 1 & 0 \\end{pmatrix}$<center>\n",
    "\n",
    "<br>\n",
    "<br>\n",
    "Combining the two:\n",
    "<br><br>\n",
    "<center>$$H= H_S + H_D = \\frac{\\epsilon}{2} \\sigma_z + \\frac{\\Delta}{2}\\sigma_x $$</center>"
   ]
  },
  {
   "cell_type": "markdown",
   "metadata": {
    "slideshow": {
     "slide_type": "slide"
    }
   },
   "source": [
    "Lets imagine we put an excitation on the first chromophore, and allow it to evolve under this simple Hamiltonian, what happens?\n",
    "\n",
    "The initial condition is $$|\\psi(t=0)\\rangle = |X_1,0_2 \\rangle$$\n",
    "\n",
    "The dynamics are given by the standard time-independant Schrodinger equation\n",
    "\n",
    "$$\\frac{d}{dt}|\\psi(t)\\rangle = \\frac{-i}{\\hbar} H|\\psi(t)\\rangle$$\n",
    "\n",
    "Typical parameters for $\\epsilon = -120$ cm$^{-1}$, and $\\Delta = 87$ cm$^{-1}$.\n",
    "\n",
    "Note, to convert 1 cm$^{-1}$ = $100 \\times h \\times c$ Joules, c = speed of light, h = Planck's constant.\n",
    "\n",
    "In units of $s^{-1}$, 100 cm$^{-1}$ corresponds to $10^4 \\times h \\times c/2\\pi \\hbar = 3\\times 10^{12} s^{-1} = 3 THz$, i.e., a frequency with a time-scale of ~$333$ femto-seconds.\n",
    "\n"
   ]
  },
  {
   "cell_type": "markdown",
   "metadata": {
    "slideshow": {
     "slide_type": "slide"
    }
   },
   "source": [
    "Let us solve this example using QuTiP, and plot \n",
    "<br>\n",
    "<center> $$P_1(t) = |\\langle X_1,0_2 | \\psi(t)\\rangle|^2$$ </center>"
   ]
  },
  {
   "cell_type": "code",
   "execution_count": 1,
   "metadata": {
    "slideshow": {
     "slide_type": "skip"
    }
   },
   "outputs": [
    {
     "name": "stdout",
     "output_type": "stream",
     "text": [
      "The history saving thread hit an unexpected error (DatabaseError('database disk image is malformed')).History will not be written to the database.\n",
      "Populating the interactive namespace from numpy and matplotlib\n"
     ]
    }
   ],
   "source": [
    "%pylab inline\n",
    "from qutip import *"
   ]
  },
  {
   "cell_type": "code",
   "execution_count": 2,
   "metadata": {
    "slideshow": {
     "slide_type": "fragment"
    }
   },
   "outputs": [],
   "source": [
    "\n",
    "\n",
    "psi0 = basis(2,0)\n",
    "tlist = linspace(0,0.333e-12,1000)\n",
    "H = (-120 * sigmaz() + 87 * sigmax()) * 3e10 * 2 * pi\n",
    "output = mesolve(H,psi0,tlist,[])\n",
    "energies, states = H.eigenstates()\n",
    "\n",
    "Pana = [abs((psi0*psi0.dag()).matrix_element(psi0,states[0])**2*exp(-1.0j*energies[0]*t)+\n",
    "         (psi0*psi0.dag()).matrix_element(psi0,states[1])**2*exp(-1.0j*energies[1]*t))**2 for t in tlist]\n",
    "\n",
    "\n"
   ]
  },
  {
   "cell_type": "code",
   "execution_count": 3,
   "metadata": {
    "slideshow": {
     "slide_type": "slide"
    }
   },
   "outputs": [
    {
     "data": {
      "image/png": "[encoded data removed]",
      "text/plain": [
       "<Figure size 432x288 with 1 Axes>"
      ]
     },
     "metadata": {
      "needs_background": "light"
     },
     "output_type": "display_data"
    }
   ],
   "source": [
    "\n",
    "fig, ax = plt.subplots(1, 1)\n",
    "ax.plot(tlist,expect(psi0*psi0.dag(),output.states), 'b', lw=2)\n",
    "ax.plot(tlist,Pana, 'r--', lw=2)\n",
    "ax.set_xlabel('t (s)')\n",
    "ax.set_ylabel('$P_1(t)$')\n",
    "\n",
    "plt.show()\n"
   ]
  },
  {
   "cell_type": "markdown",
   "metadata": {
    "slideshow": {
     "slide_type": "slide"
    }
   },
   "source": [
    "\n",
    "<center>\n",
    "<img src=\"fmoexperiment.png\" height=\"600\" width=\"600\"/>\n",
    "</center>\n",
    "\n",
    "**Some questions**\n",
    "\n",
    "How can we include noise in a 'quantum model'?\n",
    "\n",
    "How accurate do we need to be?\n"
   ]
  },
  {
   "cell_type": "markdown",
   "metadata": {
    "slideshow": {
     "slide_type": "slide"
    }
   },
   "source": [
    "\n",
    "## Deriving approximate noise models: Lindblad master equation\n",
    "\n",
    "\n",
    "\n",
    "- Modelling noise: The Lindblad Master equation; a quick derivation\n",
    "\n",
    "- Introduction to QuTip\n",
    "\n",
    "- FMO example\n",
    "    \n"
   ]
  },
  {
   "cell_type": "markdown",
   "metadata": {
    "slideshow": {
     "slide_type": "slide"
    }
   },
   "source": [
    "#  The Lindblad Master equation; a quick derivation\n",
    "\n",
    "One approach we can take to include noise is to treat the environment as a quantum system, but include its affect on the system perturbatively.  This is traditionally done with the Lindblad Master equation.   \n",
    "\n",
    "This result is the most widely used to study noise in quantum computation and quantum optics.  \n",
    "\n",
    "Let's sketch out its derivation first...\n",
    "\n",
    "Steps:\n",
    "\n",
    "1) A few definitions: density matrix, system and environment (bath) Hamiltonians.\n",
    "\n",
    "2) Born - Markov approximations.\n",
    "\n",
    "3) More definitions: The bath correlation function.\n",
    "\n",
    "4) An explicit example:  the spin-boson model.\n",
    "\n",
    "5) The secular approximation.\n",
    "\n",
    "6) And finally, the Lindblad Master Equation."
   ]
  },
  {
   "cell_type": "markdown",
   "metadata": {
    "slideshow": {
     "slide_type": "slide"
    }
   },
   "source": [
    "## Definitions: The density operator\n",
    "\n",
    "When a quantum system is effectively \"closed\" we describe its dynamics and evolution in terms of a pure state $|\\psi(t)\\rangle$ whose evolution is determined by a Hamiltonian and the Schrodinger equation (lets make life easier by neglecting $\\hbar$)\n",
    "\n",
    "$$\\frac{\\partial}{\\partial t} |\\psi(t)\\rangle = -i H(t) |\\psi(t)\\rangle$$\n",
    "\n",
    "More generally, for open systems it is convenient to use the density operator, which for a pure state, is given by\n",
    "\n",
    "$$\\rho = |\\psi(t)\\rangle \\langle \\psi(t)|$$\n",
    "\n",
    "\n"
   ]
  },
  {
   "cell_type": "markdown",
   "metadata": {
    "slideshow": {
     "slide_type": "slide"
    }
   },
   "source": [
    "When describing one part of a larger composite system, as is the case for open systems \n",
    "<span style=\"color:red\">when we trace out the environment degress of freedom</span>,  the loss of knowledge about the influence of the other systems introduces \n",
    "<span style=\"color:red\">statistical uncertainty</span>. \n",
    "\n",
    "This then gives rise to mixed states, in terms of a statistical ensemble of possible pure states, such that;\n",
    "\n",
    "$$\\rho = \\sum_n p_n |\\psi_n(t)\\rangle \\langle \\psi_n(t)|$$\n",
    "\n",
    "\n",
    "The evolution of the density operator obeys the Liouville-von Neumann equation of motion,\n",
    "\n",
    "\n",
    "$$\\frac{\\partial}{\\partial t} \\rho(t) = -i [H(t), \\rho(t)]$$\n",
    "\n",
    "\n"
   ]
  },
  {
   "cell_type": "markdown",
   "metadata": {
    "slideshow": {
     "slide_type": "slide"
    }
   },
   "source": [
    "\n",
    "\n",
    "\n",
    "The density operator itself has some important properties;\n",
    "\n",
    "-- For pure states $\\rho^2=\\rho$\n",
    "\n",
    "-- It is Hermitian $\\rho^{\\dagger} = \\rho$.\n",
    "\n",
    "-- It has trace one $\\mathrm{Tr}\\rho = 1$.\n",
    "\n",
    "-- Expectation values of system operators can be evaluated as $\\langle A \\rangle =\\mathrm{Tr}(A\\rho)$.\n",
    "\n",
    "\n",
    "\n",
    "\n"
   ]
  },
  {
   "cell_type": "markdown",
   "metadata": {
    "slideshow": {
     "slide_type": "slide"
    }
   },
   "source": [
    "## The system and environment Hamiltonians\n",
    "\n",
    "Ultimately the influence of a large environment on a systems evolution is to induce statistical uncertainty into its dynamical evolution.  \n",
    "\n",
    "This gives rise to dissipation (emission and absorbtion of energy) and dephasing (localization into particular states).\n",
    "\n",
    "The philosophy we will describe here is to start with an \n",
    "<span style=\"color:red\"> explicit Hamiltonian description of the system (**S**) and the full Environment (**E**) </span>, with the Hilbert space\n",
    "\n",
    "$$\\mathcal{H} = \\mathcal{H}_S \\otimes \\mathcal{H}_E$$\n",
    "\n"
   ]
  },
  {
   "cell_type": "markdown",
   "metadata": {
    "slideshow": {
     "slide_type": "fragment"
    }
   },
   "source": [
    "and then \n",
    "<span style=\"color:red\"> derive effective models, or equations of motion,</span> for the redused density operator of the system alone, after tracing out the environment degrees of freedom, i.e.,\n",
    "\n",
    "$$\\rho_S(t) = \\mathrm{Tr}_E[\\rho(t)]$$ \n",
    "\n",
    "since $\\rho_S(t)$ descrives all pertinent and accessible information about the system itself.\n"
   ]
  },
  {
   "cell_type": "markdown",
   "metadata": {
    "slideshow": {
     "slide_type": "slide"
    }
   },
   "source": [
    "\n",
    "The full dynamics of the system and environment would in principle be described by the Hamiltonian\n",
    "\n",
    "$$H = H_S + H_E + H_I$$\n"
   ]
  },
  {
   "cell_type": "markdown",
   "metadata": {
    "slideshow": {
     "slide_type": "fragment"
    }
   },
   "source": [
    "\n",
    "In general, one can describe the evolution of the whole system and environment, \n",
    "<span style=\"color:red\"> in the interaction picture </span>, as \n",
    "\n",
    "$$\\frac{\\partial}{\\partial t} \\tilde{ \\rho}(t) = -i [\\tilde{H}_I(t), \\tilde{\\rho}(t)]$$\n",
    "\n",
    "where the interaction pictures moves the free evolution of both the system and environment into the operators themselves,\n",
    "such that\n",
    "\n",
    "$$\\tilde{H}_I(t) = e^{i(H_S + H_E)t} H_I e^{-i(H_S + H_E)t}$$\n",
    "\n"
   ]
  },
  {
   "cell_type": "markdown",
   "metadata": {
    "slideshow": {
     "slide_type": "slide"
    }
   },
   "source": [
    "Formally we can solve the equation of motion with\n",
    "\n",
    "$$\\tilde{\\rho}(t) = \\rho(0) - i \\int_0^t ds [\\tilde{H}_I(s),\\tilde{\\rho}(s)]$$\n",
    "\n",
    "Substituting this into the RHS of the original equation of motion, and formally \n",
    "<span style=\"color:red\"> tracing out the environment degrees of freedom </span>, gives,\n",
    "\n",
    "$$\\frac{\\partial}{\\partial t} \\tilde{ \\rho}_S(t) = -i \\mathrm{Tr}_E[\\tilde{H}_I(t), \\tilde{\\rho}(0)]  -  \\int_0^t ds \\mathrm{Tr}_E [\\tilde{H}_I(t),[\\tilde{H}_I(s),\\tilde{\\rho}(s)]$$"
   ]
  },
  {
   "cell_type": "markdown",
   "metadata": {
    "slideshow": {
     "slide_type": "slide"
    }
   },
   "source": [
    "## The Born Approximation\n",
    "\n",
    "This is still an intractable equation of motion.  To make progress we must make a series of \n",
    "<span style=\"color:red\">assumptions</span>:\n",
    "\n"
   ]
  },
  {
   "cell_type": "markdown",
   "metadata": {
    "slideshow": {
     "slide_type": "fragment"
    }
   },
   "source": [
    "\n",
    "-- \n",
    "<span style=\"color:red\"> **Factorizable initial conditions** </span>: We assume that at $t=0$ the system and environment are seperable, such that \n",
    "\n",
    "$$\\rho(0) = \\rho_S(0) \\otimes \\rho_E(0)$$\n"
   ]
  },
  {
   "cell_type": "markdown",
   "metadata": {
    "slideshow": {
     "slide_type": "fragment"
    }
   },
   "source": [
    "-- <span style=\"color:red\"> **The Born approximation**</span>: In addition, we assume that the density matrix <span style=\"color:red\">factorises</span> at all times, and that the <span style=\"color:red\"> environment state is time-independent</span>,\n",
    "\n",
    "$$\\rho(t) = \\rho_S(t) \\rho_E(0)$$\n",
    "\n",
    "This assumes that the environment is mostly unaffacted by the interaction with the system. (Any excitations emitted by the system quickly decay in the environment)\n",
    "\n",
    "-- Note: We also remove the first term on the RHS (for many examples it is zero, or it can be cancelled with a c-number term in the system Hamiltonian).\n",
    "\n"
   ]
  },
  {
   "cell_type": "markdown",
   "metadata": {
    "slideshow": {
     "slide_type": "slide"
    }
   },
   "source": [
    "Under these assumptions,\n",
    "\n",
    "$$\\frac{\\partial}{\\partial t} \\tilde{ \\rho}_S(t) =  - \\int_0^t ds \\mathrm{Tr}_E [\\tilde{H}_I(t),[\\tilde{H}_I(s),\\tilde{\\rho_S}(s)\\rho_E]$$\n",
    "\n",
    "This equation of motion assumes weak coupling, as the system and environment remain seperable; \n",
    "\n",
    "... but it still includes some <span style=\"color:red\"> time non-local behavior</span> as the state of the system depends on its history (via the integral over $s$), and thus its past interaction with the bath.\n",
    "\n",
    "\n",
    "\n"
   ]
  },
  {
   "cell_type": "markdown",
   "metadata": {
    "slideshow": {
     "slide_type": "slide"
    }
   },
   "source": [
    "# The Markov Approximation\n",
    "\n",
    "We can now make what is known as the <span style=\"color:red\"> **Markov** </span> assumption, to eliminate this history. \n"
   ]
  },
  {
   "cell_type": "markdown",
   "metadata": {
    "slideshow": {
     "slide_type": "fragment"
    }
   },
   "source": [
    "\n",
    "We assume \n",
    "\n",
    "$$\\tilde{\\rho}_S(s) \\rightarrow \\tilde{\\rho}_S(t)$$\n",
    "\n",
    "in the integral.  \n",
    "\n",
    "This assumptions implies there is a seperation of time scales between environment (**$\\tau_E$**) and system relaxation time (**$\\tau_R$**) and any intrinsic system time scales (**$\\tau_S$**), \n",
    "\n",
    "$$\\tau_E \\ll \\tau_R, \\tau_S$$\n",
    "\n"
   ]
  },
  {
   "cell_type": "markdown",
   "metadata": {
    "slideshow": {
     "slide_type": "fragment"
    }
   },
   "source": [
    "I.e., if the environment were to be perturbed by the system, it relaxes back to equilibrium faster than the typical time scale of the evolution (**relaxation** and coherent evolution) of the system. This seems like a consistent assumption to make alongside the **Born approximation**, since that also implies the environment remains in equilibrium.\n"
   ]
  },
  {
   "cell_type": "markdown",
   "metadata": {
    "slideshow": {
     "slide_type": "slide"
    }
   },
   "source": [
    "Now we have, after substituting $\\tilde{\\rho}_S(s) \\rightarrow \\tilde{\\rho}_S(t)$\n",
    "\n",
    "$$\\frac{\\partial}{\\partial t} \\tilde{ \\rho}_S(t) =  - \\int_0^t ds \\mathrm{Tr}_E [\\tilde{H}_I(t),[\\tilde{H}_I(s),\\tilde{\\rho}_S(t)\\rho_E]$$\n",
    "\n",
    "\n",
    "\n",
    "This is sometimes called the Redfield equation; it local in time, but <span style=\"color:red\">not quite completely Markovian</span> (we still have $t$ in the integral limits).\n"
   ]
  },
  {
   "cell_type": "markdown",
   "metadata": {
    "slideshow": {
     "slide_type": "fragment"
    }
   },
   "source": [
    "\n",
    "We can simplifiy this further by removing the reference to $t$ in the limits of the integral, by choosing $s=t-\\tau$, and letting the upper limit go to infinity;  \n",
    "\n",
    "In other words, we assume that the integrand  dissappears fast compared to the system time scales.\n"
   ]
  },
  {
   "cell_type": "markdown",
   "metadata": {
    "slideshow": {
     "slide_type": "fragment"
    }
   },
   "source": [
    "\n",
    "\n",
    "Thus we arrive at the <span style=\"color:red\">fully Markovian master equation</span>;\n",
    "\n",
    "$$\\frac{\\partial}{\\partial t} \\tilde{ \\rho}_S(t) =  -  \\int_0^{\\infty} d\\tau \\mathrm{Tr}_E [\\tilde{H}_I(t),[\\tilde{H}_I(t-\\tau),\\tilde{\\rho}_S(t)\\rho_E]$$\n"
   ]
  },
  {
   "cell_type": "markdown",
   "metadata": {
    "slideshow": {
     "slide_type": "slide"
    }
   },
   "source": [
    "# Describing the bath with a correlation function\n",
    "\n",
    "The system depends on the environment properties via the two-time bath correlation functions. For example, lets explicitly define the system-environment interaction term as,\n",
    "\n",
    "$$H_I = A \\otimes B$$\n",
    "\n",
    "where $A$ is a Hermitian system operator, and $B$ a Hermitian bath operator.  (An explicit example will soon make this a little clearer).\n",
    "\n"
   ]
  },
  {
   "cell_type": "markdown",
   "metadata": {
    "slideshow": {
     "slide_type": "fragment"
    }
   },
   "source": [
    "\n",
    "In the interaction picture \n",
    "\n",
    "$$\\tilde{H} = A(t) \\otimes B(t)$$\n",
    "\n",
    "Our Markovian master equation contains terms like:  $\\mathrm{Tr_E}[B(t)B(t-\\tau)\\rho_E]$"
   ]
  },
  {
   "cell_type": "markdown",
   "metadata": {
    "slideshow": {
     "slide_type": "fragment"
    }
   },
   "source": [
    "If we assume the initial state of the environment is a steady state, i.e., it does not evolve under $H_E$, these terms are <span style=\"color:red\">\"stationary\"</span>,  $C(\\tau) = \\mathrm{Tr_E}[B(\\tau)B\\rho_E]$\n"
   ]
  },
  {
   "cell_type": "markdown",
   "metadata": {
    "slideshow": {
     "slide_type": "slide"
    }
   },
   "source": [
    "Inserting these various terms into our Markovian master equation, and moving back to the Schrodinger picture, one obtains\n",
    "\n",
    "$$ \\frac{\\partial}{\\partial t} \\rho_S(t) = -i[H_S,\\rho(t)] - \\int_0^{\\infty} d\\tau \\left( [A,[A(-\\tau)\\rho_S(t)]C(\\tau) + [\\rho_S(t)A(-\\tau),A]C(-\\tau)\\right)$$\n",
    "\n",
    "This equation in itself is useful, and can be developed and applied to certain problems. \n",
    "\n",
    "However, it is still not in the famous <span style=\"color:red\">**Lindblad**</span> form, and does not guarantee positivity of the density matrix as it is evolved.\n"
   ]
  },
  {
   "cell_type": "markdown",
   "metadata": {
    "slideshow": {
     "slide_type": "fragment"
    }
   },
   "source": [
    "Note: In general there may be a sum of interactions in the interaction Hamiltonian, in which case the integral contains a sum of terms for each interaction part, and the correlation functions are generalized $\\tilde{H} = \\sum_{\\alpha}A_{\\alpha}(t) \\otimes B_{\\alpha}(t)$\n",
    "\n",
    "$$ \\frac{\\partial}{\\partial t} \\rho_S(t) = -i[H_S,\\rho(t)] - \\sum_{\\alpha,\\beta}\\int_0^{\\infty} d\\tau \\left( [A_{\\alpha},[A_{\\beta}(-\\tau)\\rho_S(t)]C_{\\alpha\\beta}(\\tau) + [\\rho_S(t)A_{\\beta}(-\\tau),A_{\\alpha}]C_{\\beta\\alpha}(-\\tau)\\right)$$\n",
    "\n",
    " "
   ]
  },
  {
   "cell_type": "markdown",
   "metadata": {
    "slideshow": {
     "slide_type": "slide"
    }
   },
   "source": [
    "\n",
    "\n",
    "Interestingly, there is still not yet any assumption about the timescales $\\tau_S$, due to $H_S$, and the relaxation $\\tau_R$, induced by the bath. \n",
    "\n",
    "If we perform an additional approximation, and <span style=\"color:red\">neglect terms due to system evolution which are very fast compared to the relaxation time scale $\\tau_R$</span>, we can obtain a **Secular master equation** which is in **Lindblad form**. \n",
    "\n",
    "In other words, we will assume, $\\tau_S\\ll \\tau_R$, so that now, the Born-Markov-Secular master equation will be valid when\n",
    "\n",
    "$$\\tau_E \\ll \\tau_S \\ll \\tau_R$$\n"
   ]
  },
  {
   "cell_type": "markdown",
   "metadata": {
    "slideshow": {
     "slide_type": "fragment"
    }
   },
   "source": [
    "\n",
    "\n",
    "It is a little cumbersome to the general derivation of this step, so let us move onto an explicit example. However, one note;  the above **non-secular** form of the master equation is **may be** applicable even if the relaxation time scale and the system time scale are comparable, and thus it is useful in and of itself. (See Chapter 3.6 in Breuer and Pettrucione).\n",
    " \n"
   ]
  },
  {
   "cell_type": "markdown",
   "metadata": {
    "slideshow": {
     "slide_type": "slide"
    }
   },
   "source": [
    "## The spin-boson model  \n",
    "\n",
    "\n",
    "\n",
    "The archetypical example of an open quantum system is where the \"system\" is a two-level system, a spin, described by:"
   ]
  },
  {
   "cell_type": "markdown",
   "metadata": {
    "slideshow": {
     "slide_type": "fragment"
    }
   },
   "source": [
    "<span style=\"color:red\">Pauli spin matrices</span>\n",
    "\n",
    "\\begin{align}\n",
    "\\sigma_{x} = \\begin{pmatrix} 0 & 1 \\\\ 1 & 0 \\end{pmatrix},\\quad\n",
    "\\sigma_{y} = \\begin{pmatrix} 0 & -i \\\\ i & 0 \\end{pmatrix}, \\quad\n",
    "\\sigma_{z} = \\begin{pmatrix} 1 & 0 \\\\ 0 & -1 \\end{pmatrix},\n",
    "\\end{align}\n",
    "\n",
    "\n"
   ]
  },
  {
   "cell_type": "markdown",
   "metadata": {
    "slideshow": {
     "slide_type": "fragment"
    }
   },
   "source": [
    "While the bath is a continuum of <span style=\"color:red\"> boson modes </span>, or harmonic oscillators, described by creation and annihilation operators $b_k$, obeying the commutation relations $[b_k,b_k']=\\delta_{k,k'}$"
   ]
  },
  {
   "cell_type": "markdown",
   "metadata": {
    "slideshow": {
     "slide_type": "slide"
    }
   },
   "source": [
    "\n",
    "Returning to our example from earlier, our 'spin' was the position of the electronic excitation, and the bosons are the nuclear motion of the chromophores that modulate the energy of the electronic excitations\n",
    "\n",
    "A | B\n",
    "- | - \n",
    " <img src=\"fmo.png\" alt=\"Drawing\" style=\"width: 450px;\"/> | <img src=\"simple2.png\" alt=\"Drawing\" style=\"width: 450px;\"/>\n"
   ]
  },
  {
   "cell_type": "markdown",
   "metadata": {
    "slideshow": {
     "slide_type": "slide"
    }
   },
   "source": [
    "The total Hamiltonian is then,\n",
    "\n",
    "$$H= H_S + H_E + H_I$$\n",
    "\n",
    "where\n",
    "\n",
    "\n",
    "\n"
   ]
  },
  {
   "cell_type": "markdown",
   "metadata": {
    "slideshow": {
     "slide_type": "fragment"
    }
   },
   "source": [
    "$$ H_S = \\frac{\\epsilon}{2} \\sigma_z + \\frac{\\Delta}{2}\\sigma_x$$\n"
   ]
  },
  {
   "cell_type": "markdown",
   "metadata": {
    "slideshow": {
     "slide_type": "fragment"
    }
   },
   "source": [
    "\n",
    "\n",
    "$$ H_E = \\sum_k \\omega_k b_k^{\\dagger}b_k$$\n",
    "\n"
   ]
  },
  {
   "cell_type": "markdown",
   "metadata": {
    "slideshow": {
     "slide_type": "fragment"
    }
   },
   "source": [
    "\n",
    "$$ H_I = \\sigma_z \\sum_k g_k (b_k^{\\dagger}+b_k)= \\sum_{j,l}c_{j,l} |\\psi_j\\rangle \\langle \\psi_l|\\sum_k g_k (b_k^{\\dagger}+b_k)$$\n",
    "\n",
    "For eigenstates $|\\psi_j\\rangle$ of $H_S$, and $c_{j,l} = \\langle \\psi_j | \\sigma_z  |\\psi_l\\rangle$"
   ]
  },
  {
   "cell_type": "markdown",
   "metadata": {
    "slideshow": {
     "slide_type": "slide"
    }
   },
   "source": [
    "In the <span style=\"color:red\">interaction picture</span> the interaction Hamiltonian is \n",
    "\n",
    "$$\\tilde{H}_I(t) = e^{i(H_S + H_E)t} H_I e^{-i(H_S + H_E)t}$$\n",
    "\n",
    "   \n",
    "\n",
    "$$ \\tilde{H}_I =  \\sum_{j,l}c_{j,l} |\\psi_j\\rangle \\langle \\psi_l|e^{i\\Delta_{j,l}t}\\sum_k g_k (b_k^{\\dagger}e^{i\\omega_k t}+b_ke^{-i\\omega_k t})$$\n",
    "\n",
    "$$\\Delta_{j,l} = E_j - E_l$$ is the difference in eigenenergies.\n"
   ]
  },
  {
   "cell_type": "markdown",
   "metadata": {
    "slideshow": {
     "slide_type": "fragment"
    }
   },
   "source": [
    "Inserting this into our master equation, we find, \n",
    "\n",
    "\n",
    "$$ \\frac{\\partial}{\\partial t} \\rho_S(t) =  - \\int_0^{\\infty} d\\tau \\left( [\\sigma_z(t),[\\sigma_z(t-\\tau)\\rho_S(t)]C(\\tau) + [\\rho_S(t)\\sigma_z(t-\\tau),\\sigma_z(t)]C(-\\tau)\\right)$$"
   ]
  },
  {
   "cell_type": "markdown",
   "metadata": {
    "slideshow": {
     "slide_type": "slide"
    }
   },
   "source": [
    "\n",
    "\n",
    "\n",
    "Recall that the bath correlation functions are defined as\n",
    "\n",
    "$$C(\\tau) = \\mathrm{Tr_E}[B(\\tau)B\\rho_E]$$\n",
    "\n",
    "Where\n",
    "\n",
    "$$B(t) = \\sum_k g_k\\{ b_k^{\\dagger}e^{i\\omega_k t}+ b_ke^{-i\\omega_k t}\\}$$\n",
    "\n",
    "$$C(t)=\\mathrm{Tr_E}[ (\\sum_k g_k  \\{b_k^{\\dagger}e^{i\\omega_k t}+ b_ke^{-i\\omega_k t}\\}) (\\sum_{k'} g_{k'}\\{ b_{k'}^{\\dagger}+ b_{k'}\\}) \\rho_E]$$\n",
    "\n"
   ]
  },
  {
   "cell_type": "markdown",
   "metadata": {
    "slideshow": {
     "slide_type": "slide"
    }
   },
   "source": [
    "Assuming that the initial state of the environment is a thermal state\n",
    "\n",
    "$$\\rho_E = e^{-H_E / k_B T} / Z$$  \n",
    "\n",
    "$$Z=\\mathrm{Tr}(e^{-H_E / k_B T})$$\n",
    "\n",
    "lets us evaluate this quite easily;\n",
    "\n",
    "\n"
   ]
  },
  {
   "cell_type": "markdown",
   "metadata": {
    "slideshow": {
     "slide_type": "fragment"
    }
   },
   "source": [
    "\n",
    "The only non-zero terms come from \n",
    "\n",
    "$$\\mathrm{Tr_E}[b_k b_{k'}^{\\dagger}\\rho_E]=\\delta_{kk'}[1+n(\\omega_k)]$$\n",
    "\n",
    "and\n",
    "\n",
    "$$ \\mathrm{Tr_E}[ b_{k'}^{\\dagger} b_k\\rho_E]=\\delta_{kk'}n(\\omega_k)$$\n",
    "\n",
    "where $n(\\omega) =(e^{\\omega/k_B T} - 1)^{-1}$.\n",
    "\n",
    "Is the Bose-Einstein occupation number."
   ]
  },
  {
   "cell_type": "markdown",
   "metadata": {
    "slideshow": {
     "slide_type": "slide"
    }
   },
   "source": [
    "\n",
    "Then\n",
    "\n",
    "$$C(t)= \\sum_k \\left(g_k^2 e^{i\\omega_k t}n(\\omega_k)+ g_k^2 e^{-i\\omega_k t}[1+n(\\omega_k)]\\right)$$\n",
    "\n",
    "\n"
   ]
  },
  {
   "cell_type": "markdown",
   "metadata": {
    "slideshow": {
     "slide_type": "fragment"
    }
   },
   "source": [
    "We can then move to a continuum representation by turning the sum into an integral, and defining the **spectral density**\n",
    "\n",
    "<span style=\"color:red\">\n",
    "$$J(\\omega) = \\sum_k g_k^2\\delta(\\omega-\\omega_k)$$\n",
    "</span>\n"
   ]
  },
  {
   "cell_type": "markdown",
   "metadata": {
    "slideshow": {
     "slide_type": "fragment"
    }
   },
   "source": [
    "\n",
    "$$C(t)= \\int_0^{\\infty}d\\omega \\{J(\\omega) e^{i\\omega t}n(\\omega)+ J(\\omega) e^{-i\\omega t}[1+n(\\omega)]\\}$$\n",
    "\n",
    "**Note: sometimes it is useful to rewrite this in terms of real and imaginary parts. See part 3!\n"
   ]
  },
  {
   "cell_type": "markdown",
   "metadata": {
    "slideshow": {
     "slide_type": "slide"
    }
   },
   "source": [
    "# The secular approximaton\n",
    "\n",
    "Let us return to the master equation, in the interaction picture;\n",
    "\n",
    "$$ \\frac{\\partial}{\\partial t} \\rho_S(t) =  - \\int_0^{\\infty} d\\tau \\left( [\\sigma_z(t),[\\sigma_z(t-\\tau)\\rho_S(t)]C(\\tau) + [\\rho_S(t)\\sigma_z(t-\\tau),\\sigma_z(t)]C(-\\tau)\\right)$$"
   ]
  },
  {
   "cell_type": "markdown",
   "metadata": {
    "slideshow": {
     "slide_type": "fragment"
    }
   },
   "source": [
    "We are going to do two things:\n",
    "\n",
    "    \n",
    "    \n",
    "- Neglect terms come from products of system operators that rotate quickly... this is the <span style=\"color:red\">secular approximation!</span>\n",
    "\n",
    "Its equivalent in this case to a <span style=\"color:red\">rotating wave approximation</span>;  and for it be valid, the relaxation rate has to be smaller than the system frequency.  \n",
    "\n",
    "    \n",
    "- Evaluate the integral over $\\tau$ and $\\omega$\n",
    "\n",
    "This is a lot of algebra, so lets just do one term.\n",
    "\n"
   ]
  },
  {
   "cell_type": "markdown",
   "metadata": {
    "slideshow": {
     "slide_type": "slide"
    }
   },
   "source": [
    "## First, the secular approximation:\n",
    "\n",
    "Recall that, in the interaction picture:\n",
    "\n",
    "$$\\sigma_z(t) =\\sum_{j,l}c_{j,l} |\\psi_j\\rangle \\langle \\psi_l|e^{i\\Delta_{j,l}t}$$\n"
   ]
  },
  {
   "cell_type": "markdown",
   "metadata": {
    "slideshow": {
     "slide_type": "fragment"
    }
   },
   "source": [
    "\n",
    "So the first term in the master equation contains products like\n",
    "\n",
    "$$ \\sigma_z(t)\\sigma_z(t-\\tau)= \\sum_{j,l}c_{j,l} |\\psi_j\\rangle \\langle \\psi_l|e^{i\\Delta_{j,l}t} \\sum_{n,m}c_{n,m} |\\psi_n\\rangle \\langle \\psi_m|e^{i\\Delta_{n,m}(t-\\tau)}$$\n",
    "\n",
    "\n",
    "\n",
    "We neglect terms oscillating very quickly, like <span style=\"color:red\">$2i\\Delta_{j,l}$. </span> (Note we also ignore diagonal terms ($j=l$ etc) just for simplicity, though these can induce additional dephasing contributions).\n",
    "\n",
    "\n",
    "This is similar to a rotating wave approximation, and is valid if $\\tau_S \\ll \\tau_R$  i.e., when the relaxation rate is smaller than the system frequencies.  Now we have the seperation of time scales\n",
    "\n",
    "$$\\tau_E \\ll \\tau_S \\ll \\tau_R$$\n",
    "\n"
   ]
  },
  {
   "cell_type": "markdown",
   "metadata": {
    "slideshow": {
     "slide_type": "slide"
    }
   },
   "source": [
    "# Second, some integrals\n",
    "\n",
    "For the remaining terms, that do not rotate at this frequency, we have to evaluate integrals like,\n",
    "\n",
    "$$ |\\psi_l\\rangle\\langle\\psi_l| \\rho_S(t)  \\int_0^{\\infty} d\\tau e^{i\\Delta_{j,l} \\tau}C(\\tau)$$\n",
    "\n"
   ]
  },
  {
   "cell_type": "markdown",
   "metadata": {
    "slideshow": {
     "slide_type": "fragment"
    }
   },
   "source": [
    "Using our earlier definition of the correlation function\n",
    "\n",
    "$$C(t)= \\int_0^{\\infty}d\\omega \\{J(\\omega) e^{i\\omega t}n(\\omega)+ J(\\omega) e^{-i\\omega t}[1+n(\\omega)]\\}$$\n",
    "\n",
    "We have to evaluate\n",
    "\n",
    "$$\\int_0^{\\infty} d\\tau e^{i \\Delta_{j,l} \\tau}C(\\tau) =  \\int_0^{\\infty}d\\omega \\int_0^{\\infty} d\\tau e^{i\\Delta_{j,l} \\tau} \\{J(\\omega) e^{i\\omega \\tau}n(\\omega)+ J(\\omega) e^{-i\\omega \\tau}[1+n(\\omega)]\\}$$\n",
    "\n"
   ]
  },
  {
   "cell_type": "markdown",
   "metadata": {
    "slideshow": {
     "slide_type": "slide"
    }
   },
   "source": [
    "We can do the $\\tau$ integral first, using the formula,\n",
    "\n",
    "$$\\int_0^{\\infty} d\\tau e^{\\pm i\\epsilon \\tau} = \\pi \\delta(\\epsilon) \\pm i \\frac{\\mathcal{P}}{\\epsilon}$$\n",
    "\n",
    "$\\mathcal{P}$ is the Cauchy principal value. The imaginary term leads to environment-induced energy shifts (sometimes called Lamb shifts.  Here we neglect this term, for simplicity.\n",
    "\n"
   ]
  },
  {
   "cell_type": "markdown",
   "metadata": {
    "slideshow": {
     "slide_type": "fragment"
    }
   },
   "source": [
    "We see that the delta function lets us then evaluate the frequency integral, and thus,\n",
    "\n",
    "$$\\int_0^{\\infty} d\\tau e^{i\\Delta_{j,l} \\tau}C(\\tau)= \\pi J(\\Delta_{j,l}) (n(\\Delta_{j,l})+1)$$\n",
    "\n",
    "\n",
    "Thus for this term, the right hand side of the master equation becomes \n",
    "\n",
    "$$  |\\psi_l\\rangle\\langle\\psi_l|  \\rho_S(t)  \\left[\\int_0^{\\infty} d\\tau e^{i\\Delta_{j,l} \\tau}c(\\tau)\\right] =  \\pi J(\\Delta_{j,l}) (n(\\Delta_{j,l})+1) |\\psi_l\\rangle\\langle\\psi_l|  \\rho_S(t) $$"
   ]
  },
  {
   "cell_type": "markdown",
   "metadata": {
    "slideshow": {
     "slide_type": "slide"
    }
   },
   "source": [
    "\n",
    "\n",
    "# The **Lindblad master equation**\n",
    "\n",
    "\n",
    "We are almost there! If we repeat this for each term in the master equation, and collect terms, and move back to the schrodinger picture, we find an equation of motion describing the density matrix of the system alone, which is known as the Lindblad master equation (Gorini–Kossakowski–Sudarshan–Lindblad)\n"
   ]
  },
  {
   "cell_type": "markdown",
   "metadata": {
    "slideshow": {
     "slide_type": "fragment"
    }
   },
   "source": [
    "\n",
    "<span style=\"color:blue\">\n",
    "$$\\frac{\\partial}{\\partial t} \\rho_S(t) = -i[H_S,\\rho(t)] $$</span>\n",
    "<span style=\"color:green\">$$+ \\sum_{j>l,l}\\pi J(\\Delta_{j,l})|c_{j,l}|^2 \\left(n(\\Delta_{j,l})+1\\right)\\left[2 |\\psi_l\\rangle\\langle\\psi_j| \\rho_S(t) |\\psi_j\\rangle\\langle\\psi_l|  -  \\{|\\psi_j\\rangle\\langle\\psi_j| ,\\rho_S\\}\\right] $$</span>\n",
    "<span style=\"color:red\">$$+ \\sum_{j>l,l}\\pi J(\\Delta_{j,l})|c_{j,l}|^2 n(\\Delta_{j,l})\\left[2 |\\psi_j\\rangle\\langle\\psi_l| \\rho_S(t) |\\psi_l\\rangle\\langle\\psi_j|  -  \\{|\\psi_l\\rangle\\langle\\psi_l| ,\\rho_S\\}\\right] $$\n",
    "</span>\n",
    "\n",
    "\n",
    "\n",
    "\n",
    "\n",
    "The first part is the \n",
    "<span style=\"color:blue\">coherent system evolution</span>, the second part describes <span style=\"color:green\">spontaneous and stimulated emission</span>, and the third part describes <span style=\"color:red\">absorption</span>.   $n(\\omega) =(e^{\\omega/ T} - 1)^{-1}$\n",
    "\n"
   ]
  },
  {
   "cell_type": "markdown",
   "metadata": {
    "slideshow": {
     "slide_type": "slide"
    }
   },
   "source": [
    "# Why is this so great?\n",
    "\n",
    "- This Lindblad form guarantees positivity:  we will always have a physical density matrix.\n",
    "\n",
    "- It is easy to evaluate, and can be derived for many types of systems.  \n",
    "\n",
    "(see part 2 for more examples).\n",
    "\n",
    "\n",
    "\n"
   ]
  },
  {
   "cell_type": "markdown",
   "metadata": {
    "slideshow": {
     "slide_type": "slide"
    }
   },
   "source": [
    "\n",
    "# To recap, it is valid when:\n",
    "\n",
    "- The <span style=\"color:red\">**Born approximation**</span> applies:  the coupling is weak such that we can assume $\\rho(t) = \\rho_S(t)\\otimes\\rho_E$\n",
    "\n",
    "- The <span style=\"color:red\">**Markov approximation**</span> applies:  the bath returns to equilibrium on a time scale $\\tau_E$ which is faster than the relaxation of the system induced by that bath $\\tau_R$. \n",
    "\n",
    "- The <span style=\"color:red\">**secular approximation**</span> applies:  the system time scales are small (i.e., higher frequency) than the relaxation time scales.  In other words, $\\epsilon > \\pi J(\\epsilon) (n(\\epsilon)+1)$.\n",
    "\n",
    "$$\\tau_E \\ll \\tau_S \\ll \\tau_R$$"
   ]
  },
  {
   "cell_type": "markdown",
   "metadata": {
    "slideshow": {
     "slide_type": "fragment"
    }
   },
   "source": [
    "** Two questions **:\n",
    "\n",
    "- Can we use this model to describe the environment affecting energy transport in FMO?\n",
    "\n",
    "- Does noise slow down transport, or speed it up?\n",
    "\n"
   ]
  },
  {
   "cell_type": "markdown",
   "metadata": {
    "slideshow": {
     "slide_type": "slide"
    }
   },
   "source": [
    "# Solution to the Lindblad master equation\n",
    "\n",
    "In some cases we can get analytical solutions. Using our earlier example of a two-level system, this is easily done by writing out equations of motion for the matrix elements of the master equation, and assuming the bath spectrum is flat, so that $\\pi J(\\Delta_{j,l})|c_{j,l}|^2 = \\gamma$.  \n",
    "\n",
    "<span style=\"color:blue\">\n",
    "$$\\frac{\\partial}{\\partial t} \\rho_S(t) = -i[H_S,\\rho(t)] $$</span>\n",
    "<span style=\"color:green\">$$+ \\sum_{j>l,l}\\gamma \\left(n+1\\right)\\left[2 |\\psi_l\\rangle\\langle\\psi_j| \\rho_S(t) |\\psi_j\\rangle\\langle\\psi_l|  -  \\{|\\psi_j\\rangle\\langle\\psi_j| ,\\rho_S\\}\\right] $$</span>\n",
    "<span style=\"color:red\">$$+ \\sum_{j>l,l}\\gamma n \\left[2 |\\psi_j\\rangle\\langle\\psi_l| \\rho_S(t) |\\psi_l\\rangle\\langle\\psi_j|  -  \\{|\\psi_l\\rangle\\langle\\psi_l| ,\\rho_S\\}\\right] $$\n",
    "</span>\n",
    "\n",
    "\n"
   ]
  },
  {
   "cell_type": "markdown",
   "metadata": {
    "slideshow": {
     "slide_type": "slide"
    }
   },
   "source": [
    "\n",
    "which give, for $e=$ excited state, $g=$ ground state, and defining matrix elements like $\\rho_{ee} = \\langle e|\\rho|e\\rangle$,\n",
    "\n",
    "\n",
    "$$\\dot{\\rho}_{ee}(t) = -2 \\gamma (n+1) \\rho_{ee}(t) + 2\\gamma n \\rho_{gg}(t)$$\n",
    "$$\\dot{\\rho}_{gg}(t) = -2 \\gamma (n) \\rho_{gg}(t) + 2\\gamma (n+1) \\rho_{ee}(t)$$\n",
    "$$\\dot{\\rho}_{eg}(t) = - [\\gamma (2n+1) + i\\Delta_{e,g}] \\rho_{eg}(t)$$\n",
    "$$\\dot{\\rho}_{ge}(t) = - [\\gamma (2n+1) - i\\Delta_{e,g}] \\rho_{ge}(t)$$\n",
    "\n",
    "We an see that the populations are coupled with rates corresponding to the emission and absorption.  The off-diagonal matrix elements decay proportional to the coupling the environment.   This is decoherence!\n"
   ]
  },
  {
   "cell_type": "markdown",
   "metadata": {
    "slideshow": {
     "slide_type": "slide"
    }
   },
   "source": [
    "\n",
    "The solutions to these equations are very simple for zero temperature ($n=0$), where we see:\n",
    "\n",
    "$$\\rho_{ee}(t) = e^{-2 \\gamma t} \\rho_{ee}(0) $$\n",
    "$$\\rho_{gg}(t) = 1-e^{-2 \\gamma t} \\rho_{ee}(0)$$\n",
    "$$\\rho_{eg}(t) = e^{- \\gamma t}e^{ - i\\Delta_{e,g} t} \\rho_{eg}(0)$$\n",
    "$$\\rho_{ge}(t) = e^{- \\gamma t}e^{  i\\Delta_{e,g} t} \\rho_{ge}(0)$$\n",
    "\n",
    "The off diagonal terms decay at half the speed of the relaxation terms, leading to the infamous <span style=\"color:red\">$T_2 = 2T_1$</span> relationship.\n",
    "\n",
    "In the general case, it can be tedious to construct and solve such equations of motion.  \n",
    "\n",
    "So... lets use QuTiP to play with some examples, and see what noise does to our previous example of pure evolution.\n"
   ]
  },
  {
   "cell_type": "markdown",
   "metadata": {
    "slideshow": {
     "slide_type": "slide"
    }
   },
   "source": [
    "# QuTiP:  A brief introduction\n",
    "\n",
    "The Quantum Toolbox in Python was developed in our group, primarily by Robert Johansson (now working Rakuten) and Paul Nation (now working in IBM-Q).  \n",
    "\n",
    "http://qutip.org/devs.html\n",
    "\n",
    "It has a variety of built-in solvers for solving the dynamics via: \n",
    "- the Schrodinger equation, \n",
    "- master equations, \n",
    "- Floquet formalism, \n",
    "- Monte-Carlo quantum trajectories, \n",
    "- stochastic Schrodinger/master equations, \n",
    "- the Hierarchy method, the reaction coordinate method, etc.\n",
    "- supports time-dependance in Hamiltonians, Lindblads, etc.\n",
    "\n"
   ]
  },
  {
   "cell_type": "markdown",
   "metadata": {
    "slideshow": {
     "slide_type": "slide"
    }
   },
   "source": [
    "It based around a quantum object class which can be used to represent state vectors, operators, and superoperators.\n",
    "\n",
    "It is composed of a numerical matrix, and various properties that define its dimensionality, etc.\n",
    "<center>\n",
    "<img src=\"qobj.png\" />\n",
    "</center>"
   ]
  },
  {
   "cell_type": "markdown",
   "metadata": {
    "slideshow": {
     "slide_type": "slide"
    }
   },
   "source": [
    "## Other reasons to use QuTiP\n",
    "\n",
    "- Open source science\n",
    "- Promotes reproducibility\n",
    "- Has even more functionality, including \n",
    "    - Quantum optimal control library (CRAB, GOAT, and other animals)\n",
    "    - QIP library\n",
    "    - functions to calculate spectra, counting statistics, etc\n",
    "    - Supports arbitrary time-dependance, in Hamiltonian and Lindblad collapse operators\n",
    "    - Active development community."
   ]
  },
  {
   "cell_type": "code",
   "execution_count": 3,
   "metadata": {
    "slideshow": {
     "slide_type": "skip"
    }
   },
   "outputs": [
    {
     "name": "stdout",
     "output_type": "stream",
     "text": [
      "Populating the interactive namespace from numpy and matplotlib\n"
     ]
    }
   ],
   "source": [
    "%pylab inline\n",
    "from qutip import *"
   ]
  },
  {
   "cell_type": "markdown",
   "metadata": {
    "collapsed": true,
    "slideshow": {
     "slide_type": "slide"
    }
   },
   "source": [
    "Recalling our example of a single two-level system described by the Pauli spin matrices\n",
    "\n",
    "\n",
    "\\begin{align}\n",
    "\\sigma_{x} = \\begin{pmatrix} 0 & 1 \\\\ 1 & 0 \\end{pmatrix},\\quad\n",
    "\\sigma_{y} = \\begin{pmatrix} 0 & -i \\\\ i & 0 \\end{pmatrix}, \\quad\n",
    "\\sigma_{z} = \\begin{pmatrix} 1 & 0 \\\\ 0 & -1 \\end{pmatrix},\n",
    "\\end{align}\n",
    "\n",
    "In QuTiP we can define this manually, or with predefined operators:\n"
   ]
  },
  {
   "cell_type": "code",
   "execution_count": 2,
   "metadata": {
    "slideshow": {
     "slide_type": "fragment"
    }
   },
   "outputs": [
    {
     "data": {
      "text/latex": [
       "Quantum object: dims = [[2], [2]], shape = (2, 2), type = oper, isherm = True\\begin{equation*}\\left(\\begin{array}{*{11}c}1.0 & 0.0\\\\0.0 & -1.0\\\\\\end{array}\\right)\\end{equation*}"
      ],
      "text/plain": [
       "Quantum object: dims = [[2], [2]], shape = (2, 2), type = oper, isherm = True\n",
       "Qobj data =\n",
       "[[ 1.  0.]\n",
       " [ 0. -1.]]"
      ]
     },
     "execution_count": 2,
     "metadata": {},
     "output_type": "execute_result"
    }
   ],
   "source": [
    "sz = Qobj([[1,0], [0,-1]]) # the sigma-z Pauli operator\n",
    "sz"
   ]
  },
  {
   "cell_type": "code",
   "execution_count": null,
   "metadata": {
    "slideshow": {
     "slide_type": "fragment"
    }
   },
   "outputs": [],
   "source": [
    "sz = sigmaz() # the sigma-z Pauli operator\n",
    "sz"
   ]
  },
  {
   "cell_type": "markdown",
   "metadata": {
    "slideshow": {
     "slide_type": "slide"
    }
   },
   "source": [
    "States in diagonal basis can be defined easily"
   ]
  },
  {
   "cell_type": "code",
   "execution_count": 17,
   "metadata": {
    "slideshow": {
     "slide_type": "fragment"
    }
   },
   "outputs": [
    {
     "data": {
      "text/latex": [
       "Quantum object: dims = [[2], [1]], shape = (2, 1), type = ket\\begin{equation*}\\left(\\begin{array}{*{11}c}1.0\\\\0.0\\\\\\end{array}\\right)\\end{equation*}"
      ],
      "text/plain": [
       "Quantum object: dims = [[2], [1]], shape = (2, 1), type = ket\n",
       "Qobj data =\n",
       "[[1.]\n",
       " [0.]]"
      ]
     },
     "execution_count": 17,
     "metadata": {},
     "output_type": "execute_result"
    }
   ],
   "source": [
    "psi = basis(2, 0)    \n",
    "psi"
   ]
  },
  {
   "cell_type": "markdown",
   "metadata": {
    "slideshow": {
     "slide_type": "fragment"
    }
   },
   "source": [
    "The density matrix of this state is just the outer product\n",
    "\n",
    "$\\rho = |\\psi\\rangle \\langle \\psi |$"
   ]
  },
  {
   "cell_type": "code",
   "execution_count": 18,
   "metadata": {
    "slideshow": {
     "slide_type": "fragment"
    }
   },
   "outputs": [
    {
     "data": {
      "text/latex": [
       "Quantum object: dims = [[2], [2]], shape = (2, 2), type = oper, isherm = True\\begin{equation*}\\left(\\begin{array}{*{11}c}1.0 & 0.0\\\\0.0 & 0.0\\\\\\end{array}\\right)\\end{equation*}"
      ],
      "text/plain": [
       "Quantum object: dims = [[2], [2]], shape = (2, 2), type = oper, isherm = True\n",
       "Qobj data =\n",
       "[[1. 0.]\n",
       " [0. 0.]]"
      ]
     },
     "execution_count": 18,
     "metadata": {},
     "output_type": "execute_result"
    }
   ],
   "source": [
    "rho = psi*psi.dag()\n",
    "rho"
   ]
  },
  {
   "cell_type": "markdown",
   "metadata": {
    "slideshow": {
     "slide_type": "slide"
    }
   },
   "source": [
    "Another simple example:  equal superposition of both states\n",
    "\n",
    "$\\psi = \\frac{1}{\\sqrt{2}}(|0\\rangle + |1\\rangle)$"
   ]
  },
  {
   "cell_type": "code",
   "execution_count": 19,
   "metadata": {
    "slideshow": {
     "slide_type": "fragment"
    }
   },
   "outputs": [
    {
     "data": {
      "text/latex": [
       "Quantum object: dims = [[2], [1]], shape = (2, 1), type = ket\\begin{equation*}\\left(\\begin{array}{*{11}c}0.707\\\\0.707\\\\\\end{array}\\right)\\end{equation*}"
      ],
      "text/plain": [
       "Quantum object: dims = [[2], [1]], shape = (2, 1), type = ket\n",
       "Qobj data =\n",
       "[[0.70710678]\n",
       " [0.70710678]]"
      ]
     },
     "execution_count": 19,
     "metadata": {},
     "output_type": "execute_result"
    }
   ],
   "source": [
    "psi = (basis(2, 0)+basis(2, 1))/sqrt(2)\n",
    "psi"
   ]
  },
  {
   "cell_type": "code",
   "execution_count": 20,
   "metadata": {
    "scrolled": true,
    "slideshow": {
     "slide_type": "fragment"
    }
   },
   "outputs": [
    {
     "data": {
      "text/latex": [
       "Quantum object: dims = [[2], [2]], shape = (2, 2), type = oper, isherm = True\\begin{equation*}\\left(\\begin{array}{*{11}c}0.500 & 0.500\\\\0.500 & 0.500\\\\\\end{array}\\right)\\end{equation*}"
      ],
      "text/plain": [
       "Quantum object: dims = [[2], [2]], shape = (2, 2), type = oper, isherm = True\n",
       "Qobj data =\n",
       "[[0.5 0.5]\n",
       " [0.5 0.5]]"
      ]
     },
     "execution_count": 20,
     "metadata": {},
     "output_type": "execute_result"
    }
   ],
   "source": [
    "rho = psi*psi.dag()\n",
    "rho"
   ]
  },
  {
   "cell_type": "markdown",
   "metadata": {
    "slideshow": {
     "slide_type": "slide"
    }
   },
   "source": [
    "## Aside: Composite systems\n",
    "\n",
    "If we have more than one system, like two coupled qubits, or a qubit coupled to cavity (or equivalently, a dimer coupled to a single vibrational mode), we construct operators in a tensor space.\n",
    "\n",
    "For example, for two qubits, the $\\sigma_z$ operator acting on the first qubit $\\sigma_z \\otimes \\mathbf{1}$"
   ]
  },
  {
   "cell_type": "code",
   "execution_count": 22,
   "metadata": {
    "slideshow": {
     "slide_type": "fragment"
    }
   },
   "outputs": [
    {
     "data": {
      "text/latex": [
       "Quantum object: dims = [[2, 2], [2, 2]], shape = (4, 4), type = oper, isherm = True\\begin{equation*}\\left(\\begin{array}{*{11}c}1.0 & 0.0 & 0.0 & 0.0\\\\0.0 & 1.0 & 0.0 & 0.0\\\\0.0 & 0.0 & -1.0 & 0.0\\\\0.0 & 0.0 & 0.0 & -1.0\\\\\\end{array}\\right)\\end{equation*}"
      ],
      "text/plain": [
       "Quantum object: dims = [[2, 2], [2, 2]], shape = (4, 4), type = oper, isherm = True\n",
       "Qobj data =\n",
       "[[ 1.  0.  0.  0.]\n",
       " [ 0.  1.  0.  0.]\n",
       " [ 0.  0. -1.  0.]\n",
       " [ 0.  0.  0. -1.]]"
      ]
     },
     "execution_count": 22,
     "metadata": {},
     "output_type": "execute_result"
    }
   ],
   "source": [
    "sz1 = tensor(sigmaz(), qeye(2))\n",
    "\n",
    "sz1"
   ]
  },
  {
   "cell_type": "markdown",
   "metadata": {
    "slideshow": {
     "slide_type": "fragment"
    }
   },
   "source": [
    "qeye(2) is the identity matrix, so in the larger space of two systems we are just making a tensor product to get this matrix\n",
    "\n",
    "\n"
   ]
  },
  {
   "cell_type": "markdown",
   "metadata": {
    "slideshow": {
     "slide_type": "slide"
    }
   },
   "source": [
    "Similarly, for terms which are products of two different system operators (like the coupling in a Hamiltonian), we can define,"
   ]
  },
  {
   "cell_type": "code",
   "execution_count": 24,
   "metadata": {
    "slideshow": {
     "slide_type": "fragment"
    }
   },
   "outputs": [
    {
     "data": {
      "text/latex": [
       "Quantum object: dims = [[2, 2], [2, 2]], shape = (4, 4), type = oper, isherm = True\\begin{equation*}\\left(\\begin{array}{*{11}c}0.0 & 0.0 & 0.0 & 1.0\\\\0.0 & 0.0 & 1.0 & 0.0\\\\0.0 & 1.0 & 0.0 & 0.0\\\\1.0 & 0.0 & 0.0 & 0.0\\\\\\end{array}\\right)\\end{equation*}"
      ],
      "text/plain": [
       "Quantum object: dims = [[2, 2], [2, 2]], shape = (4, 4), type = oper, isherm = True\n",
       "Qobj data =\n",
       "[[0. 0. 0. 1.]\n",
       " [0. 0. 1. 0.]\n",
       " [0. 1. 0. 0.]\n",
       " [1. 0. 0. 0.]]"
      ]
     },
     "execution_count": 24,
     "metadata": {},
     "output_type": "execute_result"
    }
   ],
   "source": [
    "tensor(sigmax(), sigmax())"
   ]
  },
  {
   "cell_type": "code",
   "execution_count": 25,
   "metadata": {
    "slideshow": {
     "slide_type": "fragment"
    }
   },
   "outputs": [
    {
     "name": "stdout",
     "output_type": "stream",
     "text": [
      "Quantum object: dims = [[2, 2], [2, 2]], shape = (4, 4), type = oper, isherm = True\n",
      "Qobj data =\n",
      "[[0. 0. 0. 1.]\n",
      " [0. 0. 1. 0.]\n",
      " [0. 1. 0. 0.]\n",
      " [1. 0. 0. 0.]]\n"
     ]
    }
   ],
   "source": [
    "#equivalent to\n",
    "sx1 = tensor(sigmax(), qeye(2))\n",
    "\n",
    "sx2 = tensor(qeye(2),sigmax())\n",
    "\n",
    "\n",
    "print(sx1 * sx2)"
   ]
  },
  {
   "cell_type": "markdown",
   "metadata": {
    "slideshow": {
     "slide_type": "slide"
    }
   },
   "source": [
    "We can define and solve the Lindblad Master equation we solved analytically earlier in few lines:\n",
    "\n",
    "\n",
    "<span style=\"color:blue\">\n",
    "$$\\frac{\\partial}{\\partial t} \\rho_S(t) = -i[H_S,\\rho(t)] $$</span>\n",
    "<span style=\"color:green\">$$+ \\sum_{j>l,l}\\gamma \\left(n+1\\right)\\left[2 |\\psi_l\\rangle\\langle\\psi_j| \\rho_S(t) |\\psi_j\\rangle\\langle\\psi_l|  -  \\{|\\psi_j\\rangle\\langle\\psi_j| ,\\rho_S\\}\\right] $$</span>\n",
    "<span style=\"color:red\">$$+ \\sum_{j>l,l}\\gamma n \\left[2 |\\psi_j\\rangle\\langle\\psi_l| \\rho_S(t) |\\psi_l\\rangle\\langle\\psi_j|  -  \\{|\\psi_l\\rangle\\langle\\psi_l| ,\\rho_S\\}\\right] $$\n",
    "</span>\n",
    "\n",
    "QuTiP has several options on how to solve this type of formula.  \n",
    "\n",
    "The default is \"mesolve\" which takes Qobj definitions of the Hamiltonian, and the Lindblad, and converts them into a set of coupled equations in matrix form, as we did earlier. It then directly solves this set of coupled ODEs.\n",
    "\n"
   ]
  },
  {
   "cell_type": "markdown",
   "metadata": {
    "slideshow": {
     "slide_type": "slide"
    }
   },
   "source": [
    "## Aside: Superoperators\n",
    "\n",
    "The Lindblad contains terms like $ X \\rho_S(t) Y$\n",
    "\n",
    "For numerical implementation it is convenient to change how we store the density matrix and apply operators by using the superoperator formulation. Here, we essentially convert the density matrix into a vector in a larger space, writing\n",
    "\n",
    "$\\rho_S(t) = \\sum_{n,m} c_n c_m |\\psi_n \\rangle \\langle \\psi_m | \\rightarrow \\sum_{n,m} c_n c_m|\\psi_m\\rangle\\otimes |\\psi_n\\rangle $\n",
    "\n"
   ]
  },
  {
   "cell_type": "code",
   "execution_count": 14,
   "metadata": {
    "slideshow": {
     "slide_type": "fragment"
    }
   },
   "outputs": [
    {
     "name": "stdout",
     "output_type": "stream",
     "text": [
      "Quantum object: dims = [[2], [2]], shape = (2, 2), type = oper, isherm = True\n",
      "Qobj data =\n",
      "[[0.5 0. ]\n",
      " [0.  0.5]]\n"
     ]
    }
   ],
   "source": [
    "rho = 0.5*(basis(2,0) * basis(2,0).dag()+basis(2,1) * basis(2,1).dag())\n",
    "print(rho)"
   ]
  },
  {
   "cell_type": "code",
   "execution_count": 15,
   "metadata": {
    "slideshow": {
     "slide_type": "fragment"
    }
   },
   "outputs": [
    {
     "name": "stdout",
     "output_type": "stream",
     "text": [
      "Quantum object: dims = [[[2], [2]], [1]], shape = (4, 1), type = operator-ket\n",
      "Qobj data =\n",
      "[[0.5]\n",
      " [0. ]\n",
      " [0. ]\n",
      " [0.5]]\n"
     ]
    }
   ],
   "source": [
    "vec_rho = operator_to_vector(rho)\n",
    "\n",
    "print(vec_rho)"
   ]
  },
  {
   "cell_type": "markdown",
   "metadata": {
    "slideshow": {
     "slide_type": "slide"
    }
   },
   "source": [
    "Then the pre and post multiplation (linear map) becomes a matrix in this larger space. Essentially we are writing\n",
    " $  X \\rho_S(t) Y \\equiv Y^{\\dagger}\\otimes X \\sum_{n,m} c_n c_m|\\psi_n\\rangle\\otimes |\\psi_m\\rangle  $"
   ]
  },
  {
   "cell_type": "code",
   "execution_count": 21,
   "metadata": {
    "slideshow": {
     "slide_type": "fragment"
    }
   },
   "outputs": [
    {
     "name": "stdout",
     "output_type": "stream",
     "text": [
      "Quantum object: dims = [[[2], [2]], [[2], [2]]], shape = (4, 4), type = super, isherm = True\n",
      "Qobj data =\n",
      "[[0. 0. 0. 1.]\n",
      " [0. 0. 1. 0.]\n",
      " [0. 1. 0. 0.]\n",
      " [1. 0. 0. 0.]]\n"
     ]
    }
   ],
   "source": [
    "X = sigmax()\n",
    "Y = sigmax()\n",
    "print(sprepost(X,Y))"
   ]
  },
  {
   "cell_type": "markdown",
   "metadata": {
    "slideshow": {
     "slide_type": "slide"
    }
   },
   "source": [
    "## Master equation example\n",
    "\n",
    "First define the Hamiltonian $H_S = \\frac{\\epsilon}{2}\\sigma_z +\\frac{\\Delta}{2} \\sigma_x$ \n",
    "\n",
    "and initial condition $\\psi(t=0) = |1\\rangle$,  $\\rho(0) = |1\\rangle\\langle 1|$\n"
   ]
  },
  {
   "cell_type": "code",
   "execution_count": 142,
   "metadata": {
    "slideshow": {
     "slide_type": "fragment"
    }
   },
   "outputs": [
    {
     "name": "stdout",
     "output_type": "stream",
     "text": [
      "Quantum object: dims = [[2], [1]], shape = (2, 1), type = ket\n",
      "Qobj data =\n",
      "[[1.]\n",
      " [0.]]\n",
      "Quantum object: dims = [[2], [2]], shape = (2, 2), type = oper, isherm = True\n",
      "Qobj data =\n",
      "[[1. 0.]\n",
      " [0. 0.]]\n"
     ]
    }
   ],
   "source": [
    "\n",
    "\n",
    "eps = -120\n",
    "Delta = 87\n",
    "\n",
    "# Hamiltonian\n",
    "H = (eps * sigmaz() + Delta * sigmax()) * 3e10 * 2 * pi\n",
    "\n",
    "\n",
    "# initial state.  \n",
    "N = 2 # number of states in the Hilbert space\n",
    "n = 0 # the state that will be occupied (python counts from zero)\n",
    "\n",
    "psi0 = basis(N, n)     \n",
    "print(psi0)\n",
    "\n",
    "print(psi0*psi0.dag())"
   ]
  },
  {
   "cell_type": "code",
   "execution_count": 143,
   "metadata": {
    "slideshow": {
     "slide_type": "slide"
    }
   },
   "outputs": [
    {
     "data": {
      "text/plain": [
       "(array([-2.79387047e+13,  2.79387047e+13]),\n",
       " array([Quantum object: dims = [[2], [1]], shape = (2, 1), type = ket\n",
       " Qobj data =\n",
       " [[-0.9512125 ]\n",
       "  [ 0.30853651]],\n",
       "        Quantum object: dims = [[2], [1]], shape = (2, 1), type = ket\n",
       " Qobj data =\n",
       " [[0.30853651]\n",
       "  [0.9512125 ]]], dtype=object))"
      ]
     },
     "execution_count": 143,
     "metadata": {},
     "output_type": "execute_result"
    }
   ],
   "source": [
    "H.eigenstates()"
   ]
  },
  {
   "cell_type": "markdown",
   "metadata": {
    "slideshow": {
     "slide_type": "slide"
    }
   },
   "source": [
    "\n",
    "We can define our Lindblad master equation by just defining the rates and the operator which goes into master equation.\n",
    "\n",
    "Here we have two operators; one which causes emission, \n",
    "\n",
    "<span style=\"color:green\">$$ \\sum_{j>l,l}\\gamma \\left(n+1\\right)\\left[2 |\\psi_l\\rangle\\langle\\psi_j| \\rho_S(t) |\\psi_j\\rangle\\langle\\psi_l|  -  \\{|\\psi_j\\rangle\\langle\\psi_j| ,\\rho_S\\}\\right] $$\n",
    "    \n",
    "the other absorption\n",
    "    \n",
    "<span style=\"color:red\">$$\\sum_{j>l,l}\\gamma n \\left[2 |\\psi_j\\rangle\\langle\\psi_l| \\rho_S(t) |\\psi_l\\rangle\\langle\\psi_j|  -  \\{|\\psi_l\\rangle\\langle\\psi_l| ,\\rho_S\\}\\right] $$\n",
    "</span>\n"
   ]
  },
  {
   "cell_type": "code",
   "execution_count": 230,
   "metadata": {
    "slideshow": {
     "slide_type": "slide"
    }
   },
   "outputs": [],
   "source": [
    "\n",
    "gamma = 40 * 3e10 #this should be smaller than our system energies.\n",
    "n_th = 0.0 #Start with zero temperure for simplicity\n",
    "\n",
    "all_energy, all_state = H.eigenstates()\n",
    "Nmax = 2\n",
    "sz = sigmaz()\n",
    "collapse_list = []\n",
    "for j in range(Nmax):\n",
    "\n",
    "    for k in range(j+1,Nmax):\n",
    "        #FYI: QuTiPs definition of a Lindblad differs from our derivation by a factor of '2'\n",
    "        rate = (np.absolute(sz.matrix_element(all_state[j].dag(),all_state[k]))**2 * 2 * \n",
    "            gamma * (n_th+1))\n",
    "        if rate > 0.0:\n",
    "            collapse_list.append((np.sqrt(rate)*all_state[j]*all_state[k].dag()))  #emission\n",
    "        \n",
    "        \n",
    "        rate = (np.absolute(sz.matrix_element(all_state[k].dag(),all_state[j]))**2 * 2 *\n",
    "            gamma * (n_th))\n",
    "        if rate > 0.0:\n",
    "            collapse_list.append((np.sqrt(rate)*all_state[k]*all_state[j].dag())) #absorption\n",
    "            "
   ]
  },
  {
   "cell_type": "markdown",
   "metadata": {
    "slideshow": {
     "slide_type": "fragment"
    }
   },
   "source": [
    "Next define the time steps we want to solve the equations for, and run the \"mesolve\" function"
   ]
  },
  {
   "cell_type": "code",
   "execution_count": 145,
   "metadata": {
    "slideshow": {
     "slide_type": "slide"
    }
   },
   "outputs": [],
   "source": [
    "# list of times for which the solver should store the state vector\n",
    "tlist = linspace(0,0.333e-12,1000)\n",
    "output = mesolve(H, psi0, tlist, collapse_list)"
   ]
  },
  {
   "cell_type": "markdown",
   "metadata": {
    "slideshow": {
     "slide_type": "fragment"
    }
   },
   "source": [
    "Lets also run an example where we start in an eigenstate of the Hamiltonian"
   ]
  },
  {
   "cell_type": "code",
   "execution_count": 146,
   "metadata": {
    "slideshow": {
     "slide_type": "fragment"
    }
   },
   "outputs": [],
   "source": [
    "\n",
    "ee = all_state[1]\n",
    "output2 = mesolve(H, ee, tlist, collapse_list)\n"
   ]
  },
  {
   "cell_type": "markdown",
   "metadata": {
    "slideshow": {
     "slide_type": "slide"
    }
   },
   "source": [
    "Calculate some expectation values, and compare to analytical result"
   ]
  },
  {
   "cell_type": "code",
   "execution_count": 148,
   "metadata": {
    "slideshow": {
     "slide_type": "fragment"
    }
   },
   "outputs": [
    {
     "data": {
      "image/png": "[encoded data removed]",
      "text/plain": [
       "<Figure size 576x288 with 1 Axes>"
      ]
     },
     "metadata": {
      "needs_background": "light"
     },
     "output_type": "display_data"
    }
   ],
   "source": [
    "#Since our initial state was the excited state, we can get the probability of being in the excited state\n",
    "#at time t with:\n",
    "Pe = expect(output.states, psi0*psi0.dag())\n",
    "Pe2 = expect(output2.states, ee*ee.dag())\n",
    "\n",
    "#For the case where we start in eigenstate, we can compare this to our analytical result\n",
    "PeAna = [np.exp(-2 * sz.matrix_element(all_state[0],all_state[1])**2 * gamma * t) for t in tlist]\n",
    "\n",
    "\n",
    "fig, axes = plt.subplots(1,1, figsize=(8,4))\n",
    "axes.plot(tlist, Pe)\n",
    "axes.plot(tlist, Pe2, color = 'g')\n",
    "axes.plot(tlist, PeAna, color='r',ls='--')\n",
    "axes.set_xlabel(r'$t$', fontsize=20)\n",
    "axes.set_ylabel(r\"$\\rho_{11}$\", fontsize=16);"
   ]
  },
  {
   "cell_type": "markdown",
   "metadata": {
    "slideshow": {
     "slide_type": "slide"
    }
   },
   "source": [
    "If we assume non-zero temperature, the steady state (the long-time solution) of the master equation predicts a thermal state.\n",
    "\n",
    "Analytically, setting the LHS of our equations to zero, and solving, gives the disribution:\n",
    "\n",
    "$$\\rho_{ee} = \\frac{n}{(1+2n)}$$\n",
    "$$\\rho_{gg} = \\frac{1+n}{(1+2n)}$$\n",
    "\n",
    "Which is equivalent to the thermal distribution:\n",
    "\n",
    "$$ \\rho = e^{H_S/k_B T}/Z $$\n"
   ]
  },
  {
   "cell_type": "markdown",
   "metadata": {
    "slideshow": {
     "slide_type": "slide"
    }
   },
   "source": [
    "Lets check this two ways in QuTiP.  First with steadystate() function, then with the thermal_dm() function"
   ]
  },
  {
   "cell_type": "code",
   "execution_count": 155,
   "metadata": {
    "slideshow": {
     "slide_type": "skip"
    }
   },
   "outputs": [],
   "source": [
    "#non zero temperature\n",
    "n_th = 1.3\n",
    "\n",
    "\n",
    "collapse_list = []\n",
    "for j in range(Nmax):\n",
    "\n",
    "    for k in range(j+1,Nmax):\n",
    "\n",
    "        rate = np.absolute(sz.matrix_element(all_state[j].dag(),all_state[k]))**2 * 2 * gamma * (n_th+1)\n",
    "        if rate > 0.0:\n",
    "            collapse_list.append((np.sqrt(rate)*all_state[j]*all_state[k].dag()))  #emission\n",
    "        \n",
    "        \n",
    "        rate = np.absolute(sz.matrix_element(all_state[k].dag(),all_state[j]))**2 * 2 *gamma * (n_th)\n",
    "        if rate > 0.0:\n",
    "            collapse_list.append((np.sqrt(rate)*all_state[k]*all_state[j].dag())) #absorption\n"
   ]
  },
  {
   "cell_type": "code",
   "execution_count": 156,
   "metadata": {
    "slideshow": {
     "slide_type": "fragment"
    }
   },
   "outputs": [
    {
     "name": "stdout",
     "output_type": "stream",
     "text": [
      "0.36111111111111127\n",
      "0.6388888888888888\n"
     ]
    }
   ],
   "source": [
    "            \n",
    "#Set non-zero temperature and get new collapse_list first\n",
    "n_th = 1.3\n",
    "\n",
    "rhoss = steadystate(H,collapse_list)\n",
    "print(expect(rhoss,all_state[1]*all_state[1].dag()))\n",
    "print(expect(rhoss,all_state[0]*all_state[0].dag()))"
   ]
  },
  {
   "cell_type": "code",
   "execution_count": 157,
   "metadata": {
    "slideshow": {
     "slide_type": "fragment"
    }
   },
   "outputs": [
    {
     "name": "stdout",
     "output_type": "stream",
     "text": [
      "0.3611111111111111\n",
      "0.6388888888888888\n"
     ]
    }
   ],
   "source": [
    "#Compare to analytical prediction\n",
    "print(n_th / (1+ 2 * n_th))\n",
    "print((1+n_th) / (1+ 2 * n_th))"
   ]
  },
  {
   "cell_type": "code",
   "execution_count": 158,
   "metadata": {
    "slideshow": {
     "slide_type": "fragment"
    }
   },
   "outputs": [
    {
     "name": "stdout",
     "output_type": "stream",
     "text": [
      "Quantum object: dims = [[2], [2]], shape = (2, 2), type = oper, isherm = True\n",
      "Qobj data =\n",
      "[[0.63888889 0.        ]\n",
      " [0.         0.36111111]]\n"
     ]
    }
   ],
   "source": [
    "#Built in function to calculate thermal state with occupation n_th\n",
    "print(thermal_dm(2, n_th))"
   ]
  },
  {
   "cell_type": "markdown",
   "metadata": {
    "slideshow": {
     "slide_type": "slide"
    }
   },
   "source": [
    "Returning back to our example, can be include more chromophores?  \n",
    "\n",
    "In the single-excitation limit, we wrote 2-sites as a 2-level system.\n",
    "\n",
    "For 7-sites we can write a 7-level system with Hamiltonian\n",
    "\n",
    "$$ H = \\sum_{j=1}^7 \\epsilon_j |j\\rangle\\langle j| + \\sum_{j,j'} J_{j,j'} \\left(|j\\rangle \\langle j'| + c.c \\right)$$\n",
    "\n",
    "<center>\n",
    "<img src=\"fmo.png\" height=\"600\" width=\"600\"/>\n",
    " </center>"
   ]
  },
  {
   "cell_type": "code",
   "execution_count": 247,
   "metadata": {
    "slideshow": {
     "slide_type": "slide"
    }
   },
   "outputs": [
    {
     "name": "stdout",
     "output_type": "stream",
     "text": [
      "Quantum object: dims = [[7], [7]], shape = (7, 7), type = oper, isherm = True\n",
      "Qobj data =\n",
      "[[200.  -87.7   5.5  -5.9   6.7 -13.7  -9.9]\n",
      " [-87.7 320.   30.8   8.2   0.7  11.8   4.3]\n",
      " [  5.5  30.8   0.  -53.5  -2.2  -9.6   6. ]\n",
      " [ -5.9   8.2 -53.5 110.  -70.7 -17.  -63.3]\n",
      " [  6.7   0.7  -2.2 -70.7 270.   81.1  -1.3]\n",
      " [-13.7  11.8  -9.6 -17.   81.1 420.   39.7]\n",
      " [ -9.9   4.3   6.  -63.3  -1.3  39.7 230. ]]\n"
     ]
    }
   ],
   "source": [
    "\n",
    "H =  Qobj([[200, -87.7, 5.5, -5.9, 6.7, -13.7, -9.9],\n",
    "                    [-87.7, 320, 30.8, 8.2, 0.7, 11.8, 4.3],\n",
    "                    [5.5, 30.8, 0, -53.5, -2.2, -9.6, 6.0],\n",
    "                    [-5.9, 8.2, -53.5, 110, -70.7, -17.0, -63.3],\n",
    "                    [6.7, 0.7, -2.2, -70.7, 270, 81.1, -1.3],\n",
    "                    [-13.7,11.8, -9.6, -17.0 ,81.1, 420, 39.7],\n",
    "                    [-9.9, 4.3, 6.0, -63.3, -1.3, 39.7, 230]])\n",
    "\n",
    "print(H)\n",
    "\n",
    "\n",
    "#Rescale H\n",
    "H =  3e10 * 2 * pi * H\n"
   ]
  },
  {
   "cell_type": "code",
   "execution_count": 243,
   "metadata": {
    "slideshow": {
     "slide_type": "slide"
    }
   },
   "outputs": [
    {
     "name": "stdout",
     "output_type": "stream",
     "text": [
      "Quantum object: dims = [[7], [1]], shape = (7, 1), type = ket\n",
      "Qobj data =\n",
      "[[1.]\n",
      " [0.]\n",
      " [0.]\n",
      " [0.]\n",
      " [0.]\n",
      " [0.]\n",
      " [0.]]\n"
     ]
    }
   ],
   "source": [
    "# initial state.  \n",
    "N = 7 # number of states in the Hilbert space\n",
    "n = 0 # the state that will be occupied (python counts from zero)\n",
    "\n",
    "psi0 = basis(N, n)     \n",
    "print(psi0)"
   ]
  },
  {
   "cell_type": "markdown",
   "metadata": {
    "slideshow": {
     "slide_type": "slide"
    }
   },
   "source": [
    "The interaction with the bath becomes a little more complicated.  Now each chromophore is assumed to interact with an independent bath.  Each bath modules the energy of that chromophore via coupling to the operator:\n",
    "\n",
    "$$H_I = \\sum_{m=1}^7 |m\\rangle \\langle m| \\sum_k g_{k,m} (b_{k,m} + b_{k,m}^{\\dagger})$$\n",
    "\n",
    "But, the derivation is done just as before, and we find we can easily adapt our ealier model."
   ]
  },
  {
   "cell_type": "markdown",
   "metadata": {
    "slideshow": {
     "slide_type": "slide"
    }
   },
   "source": [
    "Recall that in the Master equation emission and absorption depend on the environment temperature, and the environment spectral density:\n",
    "<span style=\"color:red\">\n",
    "$$J(\\omega) = \\sum_k g_k^2\\delta(\\omega-\\omega_k)$$\n",
    "</span>\n",
    "\n",
    "In many cases we just pretend this is not energy dependent.  However, for FMO, it is know that this function has some structure.  In Ishizaki and Fleming PNAS 2012 they argue that the environment has a decay time of between $50$ fs and $200$ fs. We can capture this with a Drude-Lorentz spectral density:\n",
    "\n",
    "$$J(\\omega) = \\frac{2\\lambda \\gamma \\omega}{\\pi (\\omega^2 + \\gamma^2)}$$\n",
    "\n",
    "$\\lambda$ tells us how strong the overall interaction with the environment is\n",
    "\n",
    "$\\gamma$ tell us the bath cut-off, or decay rate, so is inverse of the bath memory time."
   ]
  },
  {
   "cell_type": "code",
   "execution_count": 244,
   "metadata": {
    "slideshow": {
     "slide_type": "slide"
    }
   },
   "outputs": [
    {
     "data": {
      "image/png": "[encoded data removed]",
      "text/plain": [
       "<Figure size 432x288 with 1 Axes>"
      ]
     },
     "metadata": {
      "needs_background": "light"
     },
     "output_type": "display_data"
    }
   ],
   "source": [
    "\n",
    "def J0(energy):\n",
    "    #underdamped brownian oscillator\n",
    "    lam = 35 * 3e10 * 2 * pi  #35 cm^-1\n",
    "    gamma = (1/(50e-15))   #1/50 fs\n",
    "    return 2 * lam * gamma * (energy)/( pi * ((energy**2) + (gamma**2)))\n",
    "wlist = linspace(0, 200*3e10*2*pi,100)\n",
    "    \n",
    "fig, axes = plt.subplots(1,1, figsize=(6,4))\n",
    "\n",
    "axes.plot(wlist/(3e10*2*pi), [J0(w)/(3e10*2*pi) for w in wlist])\n",
    "axes.set_xlabel(r'$\\omega$ (cm$^{-1}$)', fontsize=20)\n",
    "axes.set_ylabel(r\"$J(\\omega)$ (cm$^{-1}$)\", fontsize=16);   "
   ]
  },
  {
   "cell_type": "code",
   "execution_count": 245,
   "metadata": {
    "slideshow": {
     "slide_type": "skip"
    }
   },
   "outputs": [],
   "source": [
    "\n",
    "#To be more accurate let us use 300 Kelvin as the temperature\n",
    "Temperature = 300 * 0.6949 * 3e10 * 2 * pi\n",
    "#Temperature = 77 * 0.6949 * 3e10 * 2 * pi\n",
    "\n",
    "def n_th(energy):\n",
    "   \n",
    "    beta=1./Temperature\n",
    "    \n",
    "    return 1./(np.exp(energy*beta) - 1.)\n",
    "\n",
    "def J0(energy):\n",
    "    #underdamped brownian oscillator\n",
    "    lam = 35 * 3e10 * 2 * pi\n",
    "    gamma = (1/(50e-15))\n",
    "    return 2 * lam * gamma * (energy)/( pi * ((energy**2) + (gamma**2)))\n",
    "\n",
    "def J02(energy):\n",
    "    #underdamped brownian oscillator\n",
    "    lam = 35 * 3e10 * 2 * pi\n",
    "    gamma = (1/(50e-15))\n",
    "    return 2 * lam * gamma /(np.pi * ((gamma**2)))\n",
    "\n",
    "\n",
    "\n",
    "all_energy, all_state = H.eigenstates()\n",
    "\n",
    "Nmax = 7\n",
    "\n",
    "\n",
    "Q_list = [basis(Nmax, n)*basis(Nmax, n).dag() for n in range(Nmax)]\n",
    "\n",
    "dephasing = 0\n",
    "\n",
    "collapse_list = []\n",
    "\n",
    "for Q in Q_list:\n",
    "    for j in range(Nmax):\n",
    "\n",
    "        for k in range(j+1,Nmax):\n",
    "            Deltajk = abs(all_energy[k] - all_energy[j])\n",
    "            if abs(Deltajk) > 0 :\n",
    "                rate = np.absolute(Q.matrix_element(all_state[j].dag(),all_state[k]))**2 * 2 * pi * J0(Deltajk) * (n_th(Deltajk)+1)\n",
    "                if rate > 0.0:\n",
    "                    collapse_list.append((np.sqrt(rate)*all_state[j]*all_state[k].dag()))  #emission\n",
    "\n",
    "\n",
    "                rate = np.absolute(Q.matrix_element(all_state[k].dag(),all_state[j]))**2 * 2 * pi * J0(Deltajk) * (n_th(Deltajk))\n",
    "                if rate > 0.0:\n",
    "                    collapse_list.append((np.sqrt(rate)*all_state[k]*all_state[j].dag())) #absorption\n",
    "    if dephasing == 1:\n",
    "        for j in range(Nmax):\n",
    "\n",
    "            rate = np.absolute(Q.matrix_element(all_state[j].dag(),all_state[j]))**2 *  pi * J02(0.) * Temperature\n",
    "            if rate > 0.0:\n",
    "                collapse_list.append((np.sqrt(rate)*all_state[j]*all_state[j].dag()))  #emission\n"
   ]
  },
  {
   "cell_type": "code",
   "execution_count": 246,
   "metadata": {},
   "outputs": [
    {
     "data": {
      "text/plain": [
       "<matplotlib.legend.Legend at 0x217c3ea88b0>"
      ]
     },
     "execution_count": 246,
     "metadata": {},
     "output_type": "execute_result"
    },
    {
     "data": {
      "image/png": "[encoded data removed]",
      "text/plain": [
       "<Figure size 864x576 with 1 Axes>"
      ]
     },
     "metadata": {
      "needs_background": "light"
     },
     "output_type": "display_data"
    }
   ],
   "source": [
    "#To be more accurate let us use 300 Kelvin as the temperature\n",
    "Temperature = 300 * 0.6949 * 3e10 * 2 * pi\n",
    "lam = 35 * 3e10 * 2 * pi  #35 cm^-1\n",
    "gamma = (1/(50e-15))   #1/50 fs\n",
    "tlist = linspace(0,1.4e-12,1000)\n",
    "outputFMO = mesolve(H, psi0, tlist, collapse_list)\n",
    "fig, axes = plt.subplots(1,1, figsize=(12,8))\n",
    "for m,Q in enumerate(Q_list):\n",
    "    axes.plot(tlist, expect(outputFMO.states,Q),label=m+1)\n",
    "axes.set_xlabel(r'$t$', fontsize=20)\n",
    "axes.set_ylabel(r\"Population\", fontsize=16);\n",
    "\n",
    "axes.set_title('Lindblad solution ',fontsize=24)\n",
    "axes.legend(loc=0, fontsize=18)\n",
    "#fig.savefig(\"fmosec2.png\")"
   ]
  },
  {
   "cell_type": "code",
   "execution_count": 234,
   "metadata": {},
   "outputs": [
    {
     "data": {
      "text/plain": [
       "<matplotlib.legend.Legend at 0x217c3f8c040>"
      ]
     },
     "execution_count": 234,
     "metadata": {},
     "output_type": "execute_result"
    },
    {
     "data": {
      "image/png": "[encoded data removed]",
      "text/plain": [
       "<Figure size 864x576 with 1 Axes>"
      ]
     },
     "metadata": {
      "needs_background": "light"
     },
     "output_type": "display_data"
    }
   ],
   "source": [
    "#To be more accurate let us use 300 Kelvin as the temperature\n",
    "Temperature = 300 * 0.6949 * 3e10 * 2 * pi\n",
    "lam = 35 * 3e10 * 2 * pi  #35 cm^-1\n",
    "gamma = (1/(50e-15))   #1/50 fs\n",
    "tlist = linspace(0,1.4e-12,1000)\n",
    "outputFMO = mesolve(H, psi0, tlist, collapse_list)\n",
    "fig, axes = plt.subplots(1,1, figsize=(12,8))\n",
    "for m,Q in enumerate(Q_list):\n",
    "    axes.plot(tlist, expect(outputFMO.states,Q),label=m+1)\n",
    "axes.set_xlabel(r'$t$', fontsize=20)\n",
    "axes.set_ylabel(r\"Population\", fontsize=16);\n",
    "\n",
    "axes.set_title('Lindblad solution ',fontsize=24)\n",
    "axes.legend(loc=0, fontsize=18)\n",
    "#fig.savefig(\"fmosec2.png\")"
   ]
  },
  {
   "cell_type": "code",
   "execution_count": 64,
   "metadata": {
    "slideshow": {
     "slide_type": "skip"
    }
   },
   "outputs": [
    {
     "data": {
      "text/plain": [
       "<matplotlib.legend.Legend at 0x7f53631569e8>"
      ]
     },
     "execution_count": 64,
     "metadata": {},
     "output_type": "execute_result"
    },
    {
     "data": {
      "image/png": "[encoded data removed]",
      "text/plain": [
       "<Figure size 864x576 with 1 Axes>"
      ]
     },
     "metadata": {
      "needs_background": "light"
     },
     "output_type": "display_data"
    }
   ],
   "source": [
    "#To be more accurate let us use 300 Kelvin as the temperature\n",
    "Temperature = 300 * 0.6949 * 3e10 * 2 * pi\n",
    "lam = 35 * 3e10 * 2 * pi  #35 cm^-1\n",
    "gamma = (1/(50e-15))   #1/50 fs\n",
    "tlist = linspace(0,1.4e-12,1000)\n",
    "outputFMO = mesolve(H, psi0, tlist, collapse_list)\n",
    "fig, axes = plt.subplots(1,1, figsize=(12,8))\n",
    "for m,Q in enumerate(Q_list):\n",
    "    axes.plot(tlist, expect(outputFMO.states,Q),label=m+1)\n",
    "axes.set_xlabel(r'$t$', fontsize=20)\n",
    "axes.set_ylabel(r\"Population\", fontsize=16);\n",
    "\n",
    "axes.set_title('Lindblad solution ',fontsize=24)\n",
    "axes.legend(loc=0, fontsize=18)\n",
    "#fig.savefig(\"fmosec2.png\")"
   ]
  },
  {
   "cell_type": "markdown",
   "metadata": {
    "slideshow": {
     "slide_type": "slide"
    }
   },
   "source": [
    "Using the same parameters as above, $\\lambda = 35$ cm$^{-1}$, $1/\\gamma = 50$ fs, $T=300$K, we find...\n",
    "<center>\n",
    "<img src =\"fmosec2.png\">\n",
    "</center>\n",
    "    "
   ]
  },
  {
   "cell_type": "code",
   "execution_count": 65,
   "metadata": {
    "slideshow": {
     "slide_type": "skip"
    }
   },
   "outputs": [],
   "source": [
    "#Calculates  generic non-secular master equation\n",
    "#This is experimental, and should be used with a grain of salt\n",
    "#spectral density/w at w=0\n",
    "def J02(energy):\n",
    "    #underdamped brownian oscillator\n",
    "    lam = 35 * 3e10 * 2 * pi\n",
    "    gamma = (1/(50e-15))\n",
    "    return 2 * lam * gamma /(np.pi * ((gamma**2)))\n",
    "\n",
    "\n",
    "\n",
    "def J0(energy):\n",
    "    #underdamped brownian oscillator\n",
    "    lam = 35 * 3e10 * 2 * pi\n",
    "    gamma = (1/(50e-15))\n",
    "    return 2 * lam * gamma * (energy)/( pi * ((energy**2) + (gamma**2)))\n",
    "\n",
    "\n",
    "import time\n",
    "import warnings\n",
    "import numpy as np\n",
    "import scipy.sparse as sp\n",
    "from numpy import matrix\n",
    "from numpy import linalg\n",
    "from qutip import spre, spost, sprepost, thermal_dm, mesolve, Odeoptions\n",
    "from qutip import tensor, identity, destroy, sigmax, sigmaz, basis, qeye, dims\n",
    "from qutip.ui.progressbar import BaseProgressBar, TextProgressBar\n",
    "def Lnonsec(Hsys, Q_list, tlist, initial_state, Temperature,\n",
    "            return_vals, eigen_sparse=False, options=None,progress_bar=None):\n",
    "    \n",
    "\n",
    "    if progress_bar is None:\n",
    "        progress_bar = BaseProgressBar()\n",
    "    elif progress_bar is True:\n",
    "        progress_bar = TextProgressBar()\n",
    "        \n",
    "    if options is None:\n",
    "        options = Options()\n",
    "    output = None\n",
    "    \n",
    "   \n",
    "    \n",
    "    \n",
    "    \n",
    "    dimensions = dims(Q_list[0])\n",
    "    Nmax = dimensions[1][0]        #hilbert space \n",
    "    #Nmax = 2       #hilbert space \n",
    "    \n",
    "    H = Hsys\n",
    "    L=0\n",
    "    PsipreEta=0\n",
    "    PsipreX=0\n",
    "\n",
    "    all_energy, all_state = H.eigenstates(sparse=eigen_sparse)\n",
    "    for Q in Q_list:\n",
    "        Apre = spre(Q)\n",
    "        Apost = spost(Q)\n",
    "        for j in range(Nmax):\n",
    "            for k in range(Nmax):\n",
    "                A = Q.matrix_element(all_state[j].dag(), all_state[k])\n",
    "                #A = sh.matrix_element(all_state[j].dag(), all_state[k])\n",
    "                delE = (all_energy[j] - all_energy[k])\n",
    "                if np.absolute(A) > 0.0:\n",
    "                    if abs(delE) > 0.0:\n",
    "                        #X = (0.5 * np.pi * gamma*(all_energy[j] - all_energy[k])\n",
    "                        X = (0.5  * np.pi * J0(all_energy[j] - all_energy[k])\n",
    "                             * (np.cosh((all_energy[j] - all_energy[k]) /\n",
    "                                (2 * Temperature))\n",
    "                             / (np.sinh((all_energy[j] - all_energy[k]) /\n",
    "                                (2 * Temperature)))) * A)\n",
    "                        #eta = (0.5 * np.pi * gamma *\n",
    "                        eta = (0.5 *  np.pi *\n",
    "                               J0(all_energy[j] - all_energy[k]) * A)\n",
    "                        PsipreX = PsipreX + X * all_state[j]*all_state[k].dag()\n",
    "                        PsipreEta = PsipreEta + (eta * all_state[j]\n",
    "                                                 * all_state[k].dag())\n",
    "                    else:\n",
    "                        #X =0.5  * np.pi* J0(0.) * A * 2 * Temperature\n",
    "                        X = 0.5  * np.pi* J02(0.)* A  * 2 * Temperature\n",
    "                        \n",
    "                        #X =0.5 * np.pi * gamma * A * 2 * Temperature\n",
    "                        PsipreX=PsipreX+X*all_state[j]*all_state[k].dag()\n",
    "\n",
    "        A = Q\n",
    "        L += ((-spre(A * PsipreX)) + (sprepost(A, PsipreX))\n",
    "             +(sprepost(PsipreX, A)) + (-spost(PsipreX * A))\n",
    "             +(spre(A * PsipreEta)) + (sprepost(A, PsipreEta))\n",
    "             +(-sprepost(PsipreEta, A)) + (-spost(PsipreEta * A)))           \n",
    "\n",
    "    #Setup the operators and the Hamiltonian and the master equation \n",
    "    #and solve for time steps in tlist\n",
    "    psi0 = ( initial_state)\n",
    "    output = mesolve(H, psi0, tlist, [L], return_vals, options=options,progress_bar=progress_bar)\n",
    "    \n",
    "    return output"
   ]
  },
  {
   "cell_type": "markdown",
   "metadata": {
    "slideshow": {
     "slide_type": "slide"
    }
   },
   "source": [
    "For completeness, lets also look at the solution when we include the dephasing terms we ignored (as well as some non-secular contributions)...\n",
    "\n",
    "<center>\n",
    "<img src =\"fmononsec2.png\">\n",
    "</center>"
   ]
  },
  {
   "cell_type": "code",
   "execution_count": 66,
   "metadata": {
    "slideshow": {
     "slide_type": "skip"
    }
   },
   "outputs": [
    {
     "data": {
      "text/plain": [
       "<matplotlib.legend.Legend at 0x7f5352374400>"
      ]
     },
     "execution_count": 66,
     "metadata": {},
     "output_type": "execute_result"
    },
    {
     "data": {
      "image/png": "[encoded data removed]",
      "text/plain": [
       "<Figure size 864x576 with 1 Axes>"
      ]
     },
     "metadata": {
      "needs_background": "light"
     },
     "output_type": "display_data"
    }
   ],
   "source": [
    "resultMEnonsec = Lnonsec(H, Q_list, tlist, psi0, Temperature, [])\n",
    "fig, axes = plt.subplots(1,1, figsize=(12,8))\n",
    "for m,Q in enumerate(Q_list):\n",
    "    axes.plot(tlist, expect(resultMEnonsec.states,Q),label=m+1)\n",
    "axes.set_xlabel(r'$t$', fontsize=20)\n",
    "axes.set_ylabel(r\"Population\", fontsize=16);\n",
    "\n",
    "axes.set_title('Non-secular solution',fontsize=24)\n",
    "axes.legend(loc=0, fontsize=18)\n",
    "#fig.savefig(\"fmononsec2.png\")"
   ]
  },
  {
   "cell_type": "code",
   "execution_count": 85,
   "metadata": {
    "slideshow": {
     "slide_type": "skip"
    }
   },
   "outputs": [
    {
     "data": {
      "image/png": "[encoded data removed]",
      "text/plain": [
       "<Figure size 864x576 with 1 Axes>"
      ]
     },
     "metadata": {
      "needs_background": "light"
     },
     "output_type": "display_data"
    }
   ],
   "source": [
    "#To be more accurate let us use 300 Kelvin as the temperature\n",
    "Temperature = 300 * 0.6949 * 3e10 * 2 * pi\n",
    "lam = 35 * 3e10 * 2 * pi  #35 cm^-1\n",
    "gamma = (1/(50e-15))   #1/50 fs\n",
    "tlist = linspace(0,1.4e-12,1000)\n",
    "\n",
    "beta = 1/Temperature\n",
    "DL = \" 2*pi* 2.0 * {lam} / (pi * {gamma} * {beta})  if (w==0) else 2*pi*(2.0*{lam}*{gamma} *w /(pi*(w**2+{gamma}**2))) * ((1/(exp((w) * {beta})-1))+1)\".format(gamma=gamma, beta = beta, lam = lam)\n",
    "\n",
    "optionsODE = Options(nsteps=15000, store_states=True,rtol=1e-12,atol=1e-12)\n",
    "outputBR  =  brmesolve(H, psi0, tlist, a_ops=[[Q,DL] for Q in Q_list], options = optionsODE)\n",
    "\n",
    "\n",
    "fig, axes = plt.subplots(1,1, figsize=(12,8))\n",
    "for m,Q in enumerate(Q_list):\n",
    "    axes.plot(tlist, expect(outputBR.states,Q),label=m+1)\n",
    "#for m,Q in enumerate(Q_list):\n",
    "#    axes.plot(tlist, expect(outputFMO.states,Q),linestyle=\"--\",label=m+1)\n",
    "axes.set_xlabel(r'$t$', fontsize=20)\n",
    "axes.set_ylabel(r\"Population\", fontsize=16);\n",
    "\n",
    "axes.set_title('Bloch Redfield solution ',fontsize=24)\n",
    "axes.legend(loc=0, fontsize=18)\n",
    "fig.savefig(\"fmoBR.png\")\n"
   ]
  },
  {
   "cell_type": "markdown",
   "metadata": {
    "slideshow": {
     "slide_type": "slide"
    }
   },
   "source": [
    "Not too dissimilliar time-scales appear...  but is our approach valid here?  If the memory time of the bath is between $50$ and $200$ fs, and the coupling strength is of the order of 35 cm$^{-1}$, both values that may violate the Born-Markov approximations.\n",
    "\n",
    "<center>\n",
    "<img src=\"fmoexperiment.png\" height=\"600\" width=\"600\"/>\n",
    "</center>\n"
   ]
  },
  {
   "cell_type": "markdown",
   "metadata": {
    "slideshow": {
     "slide_type": "slide"
    }
   },
   "source": [
    "    \n",
    "## Part 3\n",
    "\n",
    "\n",
    "- Beyond the Master Equation: Exact numerical methods for bosonic baths\n",
    "\n",
    "    - The Hierarchy Equations of Motion\n",
    "    - The reaction coordinate method\n",
    "    - Pseudo-modes\n",
    "\n",
    "- Comparing different methods\n",
    "- Evaluating efficiency\n",
    "- Conclusions "
   ]
  },
  {
   "cell_type": "markdown",
   "metadata": {
    "slideshow": {
     "slide_type": "slide"
    }
   },
   "source": [
    "# Non-Markovian systems\n",
    "\n",
    "In other situations the assumption that $\\tau_E \\ll \\tau_S, \\tau_R$ also breaks down. E.g.,\n",
    "\n",
    "- Molecular systems strongly interacting with their environment, e.g., energy transfer in photosynthetic complexes strongly couples to protein \"vibrations\".\n",
    "- Hyperfine Interaction between electron spins and nuclear spins in quantum dots \n",
    "- Superconducting qubits strongly coupled to open transmission lines\n",
    "- Recent evidence suggests signifcant non-Markovian noise in IBM-Q simulations\n",
    "\n",
    "\n",
    "A recent review:\n",
    "\"Dynamics of non-Markovian open quantum systems\"\n",
    "Inés de Vega and Daniel Alonso\n",
    "Rev. Mod. Phys. 89, 015001"
   ]
  },
  {
   "cell_type": "markdown",
   "metadata": {
    "slideshow": {
     "slide_type": "slide"
    }
   },
   "source": [
    "# Bosonic environments\n",
    "\n",
    "The choice of a bosonic environment, or in general, a Gaussian environment, simplifies the problem to some degree.  \n",
    "\n",
    "Using the fact that the cumulants of a <span style=\"color:red\">Gaussian</span> system truncate at second order, one can show (see Breur and Petruccione, 3.6.4, or Jian Ma et al, PRA 2012) that there is a formal solution (assuming that at $t=0$, $\\rho(0) = \\rho_S(0)\\otimes \\rho_E(0)$ ),\n",
    "\n",
    "\n"
   ]
  },
  {
   "cell_type": "markdown",
   "metadata": {
    "slideshow": {
     "slide_type": "fragment"
    }
   },
   "source": [
    "\n",
    "$$ \\tilde{\\rho}_S(t) = \\mathcal{T} \\exp\\left( - \\int_0^t dt_2 \\int_0^{t_2} A^{\\times}(t_2)[C^R(t_2-t_1) A(t_1)^{\\times} + i C^I(t_2-t_1)A(t_1)^{\\circ}]\\right)\\rho_S(0) $$\n",
    "\n",
    "Where, as before $A(t)$ is the system operator which couples to the environment, \n",
    "\n",
    "$C(t)$ is the correlation function of the environment, split into real and imaginary parts, \n",
    "\n",
    "$A^{\\times}B \\equiv [A,B]$ and $A^{\\circ}B = \\{A,B\\}$.  \n",
    "\n",
    "$\\mathcal{T}$ is the time-ordering operator, which means that all terms have to reordered so that time arguments increase from right to left.\n"
   ]
  },
  {
   "cell_type": "markdown",
   "metadata": {
    "slideshow": {
     "slide_type": "slide"
    }
   },
   "source": [
    "Directly solving or using this equation is intractable;  however, by assuming that we can write the correlation functions as a sum of exponentials, and taking repeated time-derivatives, one can derive the <span style=\"color:red\">hierarchy equations of motion.</span>\n",
    "\n",
    "Again assuming that the initial bath state is a thermal state, and recalling that \n",
    "\n",
    "$$J(\\omega) = \\sum_k g_k^2\\delta(\\omega-\\omega_k)$$\n",
    "\n",
    "\n",
    "$$C(t)= \\int_0^{\\infty}d\\omega \\{J(\\omega) e^{i\\omega t}n(\\omega)+ J(\\omega) e^{-i\\omega t}[1+n(\\omega)]\\}$$\n",
    "\n",
    "we can rewrite  this as\n",
    "\n",
    "$$C(t)= \\int_0^{\\infty}d\\omega J(\\omega)\\left[ \\mathrm{coth}\\left(\\frac{\\beta\\omega}{2}\\right)\\cos \\left(\\omega t\\right) - i \\sin \\left(\\omega t)\\right)\\}\\right]$$\n",
    "\n",
    "$\\beta = 1/ k_B T$, the temperature of the initial environment state.\n"
   ]
  },
  {
   "cell_type": "markdown",
   "metadata": {
    "slideshow": {
     "slide_type": "slide"
    }
   },
   "source": [
    "\n",
    "The fact that the environment is fully described by 2nd order correlation functions allows us to identify important degrees of freedom in the environment, and include them in the simulation.  We then can have a model which captures quantum effects (coherence/entanglement between system and environment).\n",
    "\n",
    "For some choices of spectral density, this does have the analytical form of a sum of exponentials, e.g. a Lorentzian.  Traditionally, the Drude-Lorentz form is chosen,\n",
    "\n",
    "$$J(\\omega) = \\frac{\\omega}{\\pi} \\frac{2\\lambda \\gamma}{(\\gamma^2 + \\omega^2)} $$\n",
    " \n",
    "Inserting this into $C(\\tau)$ one finds,\n"
   ]
  },
  {
   "cell_type": "markdown",
   "metadata": {
    "slideshow": {
     "slide_type": "fragment"
    }
   },
   "source": [
    "\n",
    "$$C(\\tau) = \\sum_{k=0}^{\\infty} c_k e^{-v_k|\\tau|}$$\n",
    "\n",
    "\n",
    "Where $v_k = 2 \\pi k/\\beta$ for $k\\geq1$, and $v_0 = \\gamma$, and $c_0 = \\lambda \\gamma [-i + \\mathrm{cot}\\left(\\beta \\gamma /2\\right)]$ and $c_k = (4 \\lambda \\gamma/\\beta) v_k/(v_k^2 - \\gamma^2)$\n"
   ]
  },
  {
   "cell_type": "code",
   "execution_count": 26,
   "metadata": {
    "slideshow": {
     "slide_type": "skip"
    }
   },
   "outputs": [],
   "source": [
    "def cot(x):\n",
    "    return 1./np.tan(x)"
   ]
  },
  {
   "cell_type": "markdown",
   "metadata": {
    "slideshow": {
     "slide_type": "slide"
    }
   },
   "source": [
    "E.g., for the parameters given before $\\gamma =1/50$ fs, $\\lambda = 35$ cm$^{-1}$, $T$ =  300K\n",
    "\n",
    "<center>\n",
    "<img src=\"drude.png\" width=1200 /> \n",
    "</center>"
   ]
  },
  {
   "cell_type": "code",
   "execution_count": 27,
   "metadata": {
    "slideshow": {
     "slide_type": "skip"
    }
   },
   "outputs": [],
   "source": [
    "def c(t):\n",
    "    c_temp =[]\n",
    "    c_temp.append(lam * gamma * (-1.0j + cot(gamma / (2 * T))) * np.exp(-gamma * t))\n",
    "    for k in range(1,5):\n",
    "        vk = 2 * np.pi * k * T\n",
    "        c_temp.append( (4 * lam * gamma * T * vk / (vk**2 - gamma**2))  * np.exp(- vk * t) ) \n",
    "    return c_temp\n",
    "\n",
    "def J0(energy):\n",
    "    #underdamped brownian oscillator\n",
    "    return 2 * lam * gamma * (energy)/( pi* ((energy**2) + (gamma**2)))"
   ]
  },
  {
   "cell_type": "code",
   "execution_count": 28,
   "metadata": {
    "slideshow": {
     "slide_type": "skip"
    }
   },
   "outputs": [
    {
     "name": "stderr",
     "output_type": "stream",
     "text": [
      "E:\\anaconda3\\envs\\vanilla2\\lib\\site-packages\\numpy\\core\\_asarray.py:102: ComplexWarning: Casting complex values to real discards the imaginary part\n",
      "  return array(a, dtype, copy=False, order=order)\n"
     ]
    },
    {
     "data": {
      "image/png": "[encoded data removed]",
      "text/plain": [
       "<Figure size 720x216 with 2 Axes>"
      ]
     },
     "metadata": {
      "needs_background": "light"
     },
     "output_type": "display_data"
    }
   ],
   "source": [
    "#A quick plot of the spectral density and environment correlation functions\n",
    "\n",
    "wlist = linspace(0, 200*3e10*2*pi,100)\n",
    "lam = 35 * 3e10 * 2 * pi\n",
    "gamma = (1/(50e-15))\n",
    "T = Temperature = 300 * 0.6949 * 3e10 * 2 * pi\n",
    "\n",
    "#gamma = 1.0\n",
    "\n",
    "#lam = 2.5/2.\n",
    "\n",
    "#T = 1/0.95\n",
    "tlist = linspace(0,1.4e-12,1000)\n",
    "\n",
    "\n",
    "J = [J0(w)/(3e10*2*pi) for w in wlist]\n",
    "\n",
    "\n",
    "fig, axes = plt.subplots(1, 2, sharex=False, figsize=(10,3))\n",
    "\n",
    "fig.subplots_adjust(hspace=0.1) # reduce space between plots\n",
    "\n",
    "axes[0].plot(wlist/(3e10*2*pi), J, color='r',ls='--')\n",
    "axes[0].set_xlabel(r'$\\omega$ (cm$^{-1}$)', fontsize=20)\n",
    "axes[0].set_ylabel(r\"$J(\\omega)$ (cm$^{-1}$)\", fontsize=16);\n",
    "axes[1].plot(tlist, [np.real(sum(c(t))) for t in tlist], color='r',ls='--',label=\"c(t) real\")\n",
    "axes[1].plot(tlist, [np.imag(sum(c(t))) for t in tlist], color='g',ls='--',label=\"c(t) imaginary\")\n",
    "axes[1].plot(tlist, [c(t)[0] for t in tlist], color='b',ls='--',label=\"k=0 real\")\n",
    "axes[1].plot(tlist, [c(t)[1] for t in tlist], color='y',ls='--',label=\"k=1 real\")\n",
    "axes[1].set_xlabel(r'$t$', fontsize=20)\n",
    "axes[1].set_ylabel(r\"$C(t)$\", fontsize=16);\n",
    "\n",
    "axes[1].legend(loc=0)\n",
    "\n",
    "fig.savefig(\"drude.png\")"
   ]
  },
  {
   "cell_type": "markdown",
   "metadata": {
    "slideshow": {
     "slide_type": "slide"
    }
   },
   "source": [
    "Given these assumptions (<span style=\"color:red\">seperable initial condition, bosonic environment initially in a thermal state</span>), one can derive the <span style=\"color:blue\">Tanimura and Kubo HEOM</span>, which looks like the following\n",
    "\n",
    "$$\\dot{\\rho}^n(t) = -(iH_S^{\\times} + \\sum_{k=0}^M\\, n_k \\,v_k)\\,\\rho^{n}(t)$$\n",
    "$$ - i \\sum_{k=0}^M\\, A^{\\times}\\, \\rho^{n^+_k}(t)$$\n",
    "$$ -i  \\sum_{k=0}^M n_k(c_k\\, A\\,\\rho^{n^-_k}(t) - c_k^*\\,\\rho^{n^-_k}(t)\\, A)$$\n",
    "\n",
    "This is a set of coupled equations for a hierarchy of \"density matrices\" labelled by an index $n$.  \n",
    "\n",
    "In this case $n = \\{n_1,n_2,..n_m,...,n_M\\}$: it contains M indices, $0$ to $M$, a cut-off in the number of exponentials.  \n",
    "\n",
    "Each element runs from $0$ to $N_c$, an additional cut-off term.\n",
    "\n",
    "$n^+_k$ means one increases the $k$th component of $n_k$ by $1$, while  $n^-_k$ means decrease by $1$. $n= \\{0,0,0,..0\\}$ denotes the physical density matrix. All the rest are \"auxiliary\" non-normalized density matrices.  (See https://bofin-heom.readthedocs.io/en/main/  for our numerical implementation)."
   ]
  },
  {
   "cell_type": "markdown",
   "metadata": {
    "slideshow": {
     "slide_type": "slide"
    }
   },
   "source": [
    "## The reaction coordinate\n",
    "\n",
    "The HEOM is rather complex and requires a custom solver (e.g., BoFiN).  The reaction coordinate is a simpler approach (Illes-Smith, Lambert, Nazir, Phys. Rev. A (2014), and J. Chem. Phys. (2016), Strasberg et al. NJP (2017), Nazir and Schaller https://arxiv.org/abs/1805.08307).\n",
    "\n",
    "Starting from our original spin-boson Hamiltonian, we rearragne the bath modes with a unitary transformation:\n",
    "\n",
    "\n",
    "<center>\n",
    "<img src=\"rc1.png\" width=1200 /> \n",
    "</center>"
   ]
  },
  {
   "cell_type": "markdown",
   "metadata": {
    "slideshow": {
     "slide_type": "slide"
    }
   },
   "source": [
    "\n",
    "<center>\n",
    "<img src=\"rc2.png\" width=1200 /> \n",
    "</center>"
   ]
  },
  {
   "cell_type": "markdown",
   "metadata": {
    "slideshow": {
     "slide_type": "slide"
    }
   },
   "source": [
    "\n",
    "<center>\n",
    "<img src=\"rc3.png\" width=1200 /> \n",
    "</center>"
   ]
  },
  {
   "cell_type": "markdown",
   "metadata": {
    "slideshow": {
     "slide_type": "slide"
    }
   },
   "source": [
    "One finds a new RC Hamiltonian whose parameters depend on the original one\n",
    "<center>\n",
    "<img src=\"rc4.png\" width=1200 /> \n",
    "</center>"
   ]
  },
  {
   "cell_type": "markdown",
   "metadata": {
    "slideshow": {
     "slide_type": "slide"
    }
   },
   "source": [
    "The parameters of new model can be obtained from the original spectral density\n",
    "<center>\n",
    "<img src=\"rc5.png\" width=600 /> \n",
    "</center>\n"
   ]
  },
  {
   "cell_type": "markdown",
   "metadata": {
    "slideshow": {
     "slide_type": "slide"
    }
   },
   "source": [
    "We can use an underdamped Drude-Lorentze SD as a specific example:\n",
    "\n",
    "<center>\n",
    "<img src=\"rc7.png\" width=600 /> \n",
    "</center>\n"
   ]
  },
  {
   "cell_type": "markdown",
   "metadata": {
    "slideshow": {
     "slide_type": "slide"
    }
   },
   "source": [
    "Aside: In principle one can repeat this process following Martinazzo et al. J. Chem. Phys. 2011:\n",
    "\n",
    "\n",
    "<center>\n",
    "<img src=\"rc8.png\" width=600 /> \n",
    "</center>\n"
   ]
  },
  {
   "cell_type": "markdown",
   "metadata": {
    "slideshow": {
     "slide_type": "slide"
    }
   },
   "source": [
    "For practical application, we need to treat the residual bath:\n",
    "\n",
    "\n",
    "<center>\n",
    "<img src=\"rc9.png\" width=600 /> \n",
    "</center>"
   ]
  },
  {
   "cell_type": "markdown",
   "metadata": {
    "slideshow": {
     "slide_type": "slide"
    }
   },
   "source": [
    "Next step:  master equation description of residual environmen. (Illes-Smith, Lambert, Nazir, Phys. Rev. A (2014), and J. Chem. Phys. (2016), Strasberg et al. NJP (2017).\n",
    "\n",
    "Born-Markov Assumptions:  coupling to residual bath is weak, and memory-less (Markovian). \n",
    "\n",
    "When is this ok?  Residual bath spectral density is $J_1(\\omega) = \\gamma \\omega$,  implies $\\gamma \\ll \\lambda, \\Omega, \\omega_q$\n",
    "\n",
    "Making standard Born-Markov (but non-secular) approximations:\n",
    "\n",
    "\n",
    "\n",
    "<center>\n",
    "<img src=\"rc11.png\" width=600 /> \n",
    "</center>"
   ]
  },
  {
   "cell_type": "markdown",
   "metadata": {
    "slideshow": {
     "slide_type": "slide"
    }
   },
   "source": [
    "# Comparing BMS master equation, HEOM and RC\n",
    "\n",
    "Before looking again at the FMO example, lets try and see the breakdown of the BMS (Born-Markov-Secular) master equation as we increase the bath correlation time with some simpler (unitless) parameters, and with just a 2-level system.\n",
    "\n",
    "First try lets try some parameters where BMS should work (in units of system emergy $\\epsilon$):\n",
    "\n",
    "$\\gamma=10 \\epsilon$  $\\quad$ Very large: short memory time, Markovian\n",
    "\n",
    "$\\lambda = 0.05 \\epsilon$  $\\quad$ Very weak: Born approximation should be valid.\n",
    "\n",
    "$\\beta = \\epsilon$  $\\quad$ Overall dissipation rate not too large because of temperature? Secular approximation should be ok."
   ]
  },
  {
   "cell_type": "code",
   "execution_count": 204,
   "metadata": {
    "slideshow": {
     "slide_type": "skip"
    }
   },
   "outputs": [],
   "source": [
    "#Calculates  generic non-secular master equation\n",
    "#This is experimental, and should be used with a grain of salt\n",
    "\n",
    "\n",
    "import time\n",
    "import warnings\n",
    "import numpy as np\n",
    "import scipy.sparse as sp\n",
    "from numpy import matrix\n",
    "from numpy import linalg\n",
    "from qutip import spre, spost, sprepost, thermal_dm, mesolve, Odeoptions\n",
    "from qutip import tensor, identity, destroy, sigmax, sigmaz, basis, qeye, dims\n",
    "from qutip.ui.progressbar import BaseProgressBar, TextProgressBar\n",
    "def Lnonsec(Hsys, Q, tlist, initial_state, Temperature,\n",
    "            return_vals, eigen_sparse=False, options=None,progress_bar=None):\n",
    "    \n",
    "\n",
    "    if progress_bar is None:\n",
    "        progress_bar = BaseProgressBar()\n",
    "    elif progress_bar is True:\n",
    "        progress_bar = TextProgressBar()\n",
    "        \n",
    "    if options is None:\n",
    "        options = Options()\n",
    "    output = None\n",
    "    \n",
    "    dot_energy, dot_state = Hsys.eigenstates(sparse=eigen_sparse)\n",
    "    deltaE = dot_energy[1] - dot_energy[0]\n",
    "    \n",
    "    \n",
    "    \n",
    "    \n",
    "    dimensions = dims(Q)\n",
    "    #Nmax = dimensions[1][0]        #hilbert space \n",
    "    Nmax = Q.shape[0]        #hilbert space \n",
    "    print(Nmax)\n",
    "    #Nmax = 2       #hilbert space \n",
    "    \n",
    "    H = Hsys\n",
    "    L=0\n",
    "    PsipreEta=0\n",
    "    PsipreX=0\n",
    "\n",
    "    all_energy, all_state = H.eigenstates(sparse=eigen_sparse)\n",
    "    Apre = spre(Q)\n",
    "    Apost = spost(Q)\n",
    "    for j in range(Nmax):\n",
    "        for k in range(Nmax):\n",
    "            A = Q.matrix_element(all_state[j].dag(), all_state[k])\n",
    "            #A = sh.matrix_element(all_state[j].dag(), all_state[k])\n",
    "            delE = (all_energy[j] - all_energy[k])\n",
    "            if np.absolute(A) > 0.0:\n",
    "                if abs(delE) > 0.0:\n",
    "                    #X = (0.5 * np.pi * gamma*(all_energy[j] - all_energy[k])\n",
    "                    X = (0.5  * np.pi * J0(all_energy[j] - all_energy[k])\n",
    "                         * (np.cosh((all_energy[j] - all_energy[k]) /\n",
    "                            (2 * Temperature))\n",
    "                         / (np.sinh((all_energy[j] - all_energy[k]) /\n",
    "                            (2 * Temperature)))) * A)\n",
    "                    #eta = (0.5 * np.pi * gamma *\n",
    "                    eta = (0.5 *  np.pi *\n",
    "                           J0(all_energy[j] - all_energy[k]) * A)\n",
    "                    PsipreX = PsipreX + X * all_state[j]*all_state[k].dag()\n",
    "                    PsipreEta = PsipreEta + (eta * all_state[j]\n",
    "                                             * all_state[k].dag())\n",
    "                else:\n",
    "                    #X =0.5  * np.pi* J0(0.) * A * 2 * Temperature\n",
    "                    X =0.5  * np.pi* J02(0.)* A  * 2 * Temperature\n",
    "                    #X =0.5 * np.pi * gamma * A * 2 * Temperature\n",
    "                    PsipreX=PsipreX+X*all_state[j]*all_state[k].dag()\n",
    "\n",
    "    A = Q\n",
    "    L = ((-spre(A * PsipreX)) + (sprepost(A, PsipreX))\n",
    "         +(sprepost(PsipreX, A)) + (-spost(PsipreX * A))\n",
    "         +(spre(A * PsipreEta)) + (sprepost(A, PsipreEta))\n",
    "         +(-sprepost(PsipreEta, A)) + (-spost(PsipreEta * A)))           \n",
    "\n",
    "    #Setup the operators and the Hamiltonian and the master equation \n",
    "    #and solve for time steps in tlist\n",
    "    psi0 = ( initial_state)\n",
    "    output = mesolve(H, psi0, tlist, [L], return_vals, options=options,progress_bar=progress_bar)\n",
    "    \n",
    "    return output\n",
    "              "
   ]
  },
  {
   "cell_type": "code",
   "execution_count": 205,
   "metadata": {
    "slideshow": {
     "slide_type": "skip"
    }
   },
   "outputs": [],
   "source": [
    "eps = 1.0    # Tunnelling term\n",
    "Hsys =  0.5 * eps * sigmax()\n",
    "#Coupling operator to the bath:\n",
    "sm = destroy(2).dag()\n",
    "Q = sigmaz()\n",
    "\n",
    "\n",
    "gamma = 10.                # Cutoff frequency of DL spectral density\n",
    "lam = 0.05           # Coupling strength of DL spectral density\n",
    "\n",
    "temperature = 1.     # Temperature of environment\n",
    "\n",
    "tlist = np.linspace(0, 20, 800) #time steps\n",
    "\n",
    "psi0=(basis(2,0)+basis(2,1))/np.sqrt(2.)  #initial state of system.\n",
    "psi0=basis(2,0)\n",
    "rho0=psi0*psi0.dag()\n",
    "\n",
    "Ncut = 10\n",
    "#K is the matsubara terms; if temperature < system energy,  N>1\n",
    "Nk=4\n"
   ]
  },
  {
   "cell_type": "code",
   "execution_count": 206,
   "metadata": {
    "slideshow": {
     "slide_type": "skip"
    }
   },
   "outputs": [],
   "source": [
    "\n",
    "def J0(energy):\n",
    "    #underdamped brownian oscillator\n",
    "    return 2 * lam * gamma * (energy)/(np.pi * ((energy**2) + (gamma**2)))\n",
    "\n",
    "def nbs(energy,Temperature):\n",
    "    beta = 1./Temperature\n",
    "    \n",
    "    return 1./(np.exp(energy*beta) - 1.)\n",
    "\n",
    "#spectral density/w at w=0\n",
    "def J02(energy):\n",
    "    #underdamped brownian oscillator\n",
    "    return 2 * lam * gamma /(np.pi * ((gamma**2)))\n",
    "\n",
    "\n",
    "\n",
    "\n"
   ]
  },
  {
   "cell_type": "markdown",
   "metadata": {
    "slideshow": {
     "slide_type": "slide"
    }
   },
   "source": [
    "The relaxation time is roughly \n",
    "$\\tau_R \\approx 1/\\pi J(\\epsilon)n(\\epsilon)$\n",
    "\n",
    "(recall everything here is in units of $\\epsilon=1$)"
   ]
  },
  {
   "cell_type": "code",
   "execution_count": 36,
   "metadata": {
    "slideshow": {
     "slide_type": "fragment"
    }
   },
   "outputs": [
    {
     "name": "stdout",
     "output_type": "stream",
     "text": [
      "173.54646467436356\n"
     ]
    }
   ],
   "source": [
    "print(1/(np.pi * J0(1.0) * nbs(1.0,temperature)))\n"
   ]
  },
  {
   "cell_type": "markdown",
   "metadata": {
    "slideshow": {
     "slide_type": "fragment"
    }
   },
   "source": [
    "The largest environment correlation times are\n",
    "$\\tau_E \\approx 1/\\gamma,  1/2 \\pi k_B T $"
   ]
  },
  {
   "cell_type": "code",
   "execution_count": 37,
   "metadata": {
    "slideshow": {
     "slide_type": "fragment"
    }
   },
   "outputs": [
    {
     "name": "stdout",
     "output_type": "stream",
     "text": [
      "0.1\n",
      "0.15915494309189535\n"
     ]
    }
   ],
   "source": [
    "print(1/gamma)\n",
    "print(1/(2 * np.pi * temperature))"
   ]
  },
  {
   "cell_type": "markdown",
   "metadata": {
    "slideshow": {
     "slide_type": "fragment"
    }
   },
   "source": [
    "The system time scale is $\\tau_S \\approx 1/\\epsilon$, so $\\tau_E \\ll \\tau_S \\ll \\tau_R$ for the Born-Markov-Secular approximation seems valid. Let's check.."
   ]
  },
  {
   "cell_type": "code",
   "execution_count": 207,
   "metadata": {
    "slideshow": {
     "slide_type": "slide"
    }
   },
   "outputs": [],
   "source": [
    "# Configure the solver\n",
    "from qutip.nonmarkov.heom import HSolverDL\n",
    "hsolver = HSolverDL(Hsys, Q, lam, temperature, Ncut, Nk, gamma, stats=True,)\n",
    "resultHEOM = hsolver.run(rho0, tlist)"
   ]
  },
  {
   "cell_type": "code",
   "execution_count": 208,
   "metadata": {
    "slideshow": {
     "slide_type": "skip"
    }
   },
   "outputs": [],
   "source": [
    "beta = 1/temperature\n",
    "DL = \" 2*pi* 2.0 * {lam} / (pi * {gamma} * {beta})  if (w==0) else 2*pi*(2.0*{lam}*{gamma} *w /(pi*(w**2+{gamma}**2))) * ((1/(exp((w) * {beta})-1))+1)\".format(gamma=gamma, beta = beta, lam = lam)\n",
    "\n",
    "optionsODE = Options(nsteps=15000, store_states=True,rtol=1e-12,atol=1e-12)\n",
    "outputBR  =  brmesolve(Hsys, rho0, tlist, a_ops=[[sigmaz(),DL]], options = optionsODE)\n",
    "\n",
    "\n"
   ]
  },
  {
   "cell_type": "code",
   "execution_count": 209,
   "metadata": {
    "slideshow": {
     "slide_type": "fragment"
    }
   },
   "outputs": [
    {
     "name": "stdout",
     "output_type": "stream",
     "text": [
      "2\n"
     ]
    }
   ],
   "source": [
    "#lets compare to the BMS solution,\n",
    "plus =  (basis(2,0)+basis(2,1))/np.sqrt(2.) \n",
    "minus = (basis(2,0)-basis(2,1))/np.sqrt(2.) \n",
    "smt = minus*plus.dag()\n",
    "resultMEsec = mesolve(Hsys, rho0, tlist, [np.sqrt(2*np.pi*J0(1.0)*(nbs(1.0,temperature)+1))*smt,np.sqrt(2*np.pi*J0(1.0)*nbs(1.0,temperature))*smt.dag()], [])\n",
    "resultMEnonsec = Lnonsec(Hsys, Q, tlist, rho0, temperature, [])\n",
    "    "
   ]
  },
  {
   "cell_type": "code",
   "execution_count": 210,
   "metadata": {
    "slideshow": {
     "slide_type": "skip"
    }
   },
   "outputs": [
    {
     "name": "stdout",
     "output_type": "stream",
     "text": [
      "100.0\n",
      "31.622776601683793\n",
      "3.7200759760208356e-44\n",
      "30\n"
     ]
    }
   ],
   "source": [
    "dot_energy, dot_state = Hsys.eigenstates()\n",
    "deltaE = dot_energy[1] - dot_energy[0]\n",
    "\n",
    "#gamma2 = 5*deltaE / (2 * np.pi * gamma)\n",
    "#wa = 2 * np.pi * gamma2 *   gamma # reaction coordinate frequency >> gamma\n",
    "#g = np.sqrt(np.pi * wa * lam / 2.0)  # reaction coordinate coupling\n",
    "#g = np.sqrt(np.pi * wa * lam / 4.0)  # reaction coordinate coupling Factor over 2 because of diff in J(w) (I have 2 lam now)\n",
    "#nb = (1 / (np.exp(wa/w_th) - 1))\n",
    "\n",
    "wa = 10*gamma\n",
    "gamma2 = wa**2/gamma\n",
    "g = np.sqrt(2*lam*(wa**2))\n",
    "print(wa)\n",
    "print(g)\n",
    "nb = (1 / (np.exp(wa/temperature) - 1))\n",
    "print(nb)\n",
    "NRC = 15\n",
    "\n",
    "Hsys_exp = tensor(qeye(NRC), Hsys)\n",
    "Q_exp = tensor(qeye(NRC), Q)\n",
    "a = tensor(destroy(NRC), qeye(2))\n",
    "#Q_coup = a+a.dag()\n",
    "Q_coup = (a+a.dag())/np.sqrt(2*wa)\n",
    "H0 = wa * a.dag() * a + Hsys_exp\n",
    "# interaction\n",
    "#H1 = (g * (a.dag() + a) * Q_exp)\n",
    "H1 = (g * (a.dag() + a) * Q_exp)/np.sqrt(2*wa)\n",
    "\n",
    "H = H0 + H1\n",
    "\n",
    "def J0(energy):\n",
    "    #underdamped brownian oscillator\n",
    "    return gamma2 * (energy) /np.pi\n",
    "#lets compare to the BMS solution,\n",
    "\n",
    "rho0_exp=tensor(thermal_dm(NRC, nb), rho0)\n",
    "resultMEnonsecRC = Lnonsec(H, Q_coup, tlist, rho0_exp, temperature, [])\n",
    "    "
   ]
  },
  {
   "cell_type": "code",
   "execution_count": 213,
   "metadata": {
    "slideshow": {
     "slide_type": "skip"
    }
   },
   "outputs": [],
   "source": [
    "%load_ext autoreload\n",
    "%autoreload 2"
   ]
  },
  {
   "cell_type": "markdown",
   "metadata": {
    "slideshow": {
     "slide_type": "fragment"
    }
   },
   "source": [
    "<center>\n",
    "<img src=\"heom1.png\" width=800 /> \n",
    "</center>"
   ]
  },
  {
   "cell_type": "code",
   "execution_count": 212,
   "metadata": {
    "slideshow": {
     "slide_type": "skip"
    }
   },
   "outputs": [
    {
     "name": "stderr",
     "output_type": "stream",
     "text": [
      "E:\\anaconda3\\envs\\vanilla2\\lib\\site-packages\\numpy\\core\\_asarray.py:102: ComplexWarning: Casting complex values to real discards the imaginary part\n",
      "  return array(a, dtype, copy=False, order=order)\n",
      "E:\\anaconda3\\envs\\vanilla2\\lib\\site-packages\\numpy\\core\\_asarray.py:102: ComplexWarning: Casting complex values to real discards the imaginary part\n",
      "  return array(a, dtype, copy=False, order=order)\n",
      "E:\\anaconda3\\envs\\vanilla2\\lib\\site-packages\\numpy\\core\\_asarray.py:102: ComplexWarning: Casting complex values to real discards the imaginary part\n",
      "  return array(a, dtype, copy=False, order=order)\n",
      "E:\\anaconda3\\envs\\vanilla2\\lib\\site-packages\\numpy\\core\\_asarray.py:102: ComplexWarning: Casting complex values to real discards the imaginary part\n",
      "  return array(a, dtype, copy=False, order=order)\n",
      "E:\\anaconda3\\envs\\vanilla2\\lib\\site-packages\\numpy\\core\\_asarray.py:102: ComplexWarning: Casting complex values to real discards the imaginary part\n",
      "  return array(a, dtype, copy=False, order=order)\n"
     ]
    },
    {
     "data": {
      "image/png": "[encoded data removed]",
      "text/plain": [
       "<Figure size 1080x432 with 2 Axes>"
      ]
     },
     "metadata": {
      "needs_background": "light"
     },
     "output_type": "display_data"
    }
   ],
   "source": [
    "P1p=rho0\n",
    "psi01 = basis(2,1)\n",
    "P12p=psi0*psi01.dag()\n",
    "\n",
    "P1HEOM=expect(resultHEOM.states,P1p)\n",
    "P12HEOM=expect(resultHEOM.states,P12p)\n",
    "\n",
    "\n",
    "P1ME=expect(resultMEsec.states,P1p)\n",
    "P12ME=expect(resultMEsec.states,P12p)\n",
    "\n",
    "P1BR=expect(outputBR.states,P1p)\n",
    "P12BR=expect(outputBR.states,P12p)\n",
    "\n",
    "import matplotlib.gridspec as gridspec\n",
    "\n",
    "P1MENS=expect(resultMEnonsec.states,P1p)\n",
    "P12MENS=expect(resultMEnonsec.states,P12p)\n",
    "\n",
    "\n",
    "P1MENSRC=expect(resultMEnonsecRC.states,tensor(qeye(NRC),P1p))\n",
    "P12MENSRC=expect(resultMEnonsecRC.states,tensor(qeye(NRC),P12p))\n",
    "fig = plt.figure(figsize=(15,6))\n",
    "gs1 = gridspec.GridSpec(1, 2)\n",
    "gs1.update(wspace=.5, hspace=1.3) # set the spacing between axes. \n",
    "########################################################################\n",
    "axes1 = plt.subplot(gs1[0])\n",
    "\n",
    "\n",
    "axes1.plot(tlist, P1HEOM,  color=\"teal\", ls=\"-\", alpha=1, linewidth=2.0,label=\"Hierarchy\")\n",
    "axes1.plot(tlist , P1ME,  color=\"orange\", ls=\"-\", alpha=1, linewidth=2.0,label=\"Master equation secular\")\n",
    "axes1.plot(tlist , P1BR,  color=\"blue\", ls=\"-.\", alpha=1, linewidth=2.0,label=\"Bloch Redfield solver\")\n",
    "axes1.plot(tlist , P1MENS,  color=\"red\", ls=\"--\", alpha=0.5, linewidth=2.0,label=\"Master equation non-secular\")\n",
    "axes1.plot(tlist , P1MENSRC,  color=\"black\", ls=\"--\", alpha=1.0, linewidth=2.0,label=\"Reaction coordinate\")\n",
    "\n",
    "axes1.set_ylabel(r'$\\rho_{11}$', fontsize=28)\n",
    "axes1.set_xlabel(r'$\\epsilon t$', fontsize=28)\n",
    "\n",
    "ticks = [0,0.5,1.0]\n",
    "axes1.set_yticks(ticks)\n",
    "axes1.set_yticklabels([\"0\",\"0.5\",\"1.0\"], fontsize=24);\n",
    "\n",
    "ticks = [.0,10.,20.]\n",
    "axes1.set_xticks(ticks)\n",
    "axes1.set_xticklabels([\"0\",\"10\",\"20\"], fontsize=24);\n",
    "axes1.legend(loc=4, fontsize=12)\n",
    "\n",
    "axes1.set_title('$\\lambda=0.05 \\epsilon $, $\\gamma = 10 \\epsilon $, $k_{B}T=\\epsilon $ ',fontsize=24,y=1.05,x=1.0)\n",
    "\n",
    "axes2 = plt.subplot(gs1[1])\n",
    "\n",
    "axes2.plot(tlist, P12HEOM,  color=\"teal\", ls=\"-\", alpha=1, linewidth=2.0,label=\"Hierarchy\")\n",
    "axes2.plot(tlist , P12ME,  color=\"orange\", ls=\"-\", alpha=1, linewidth=2.0,label=\"Master equation secular\")\n",
    "axes2.plot(tlist , P12BR,  color=\"blue\", ls=\"-.\", alpha=1, linewidth=2.0,label=\"Bloch-Redfield\")\n",
    "axes2.plot(tlist , P12MENS,  color=\"red\", ls=\"--\", alpha=0.5, linewidth=2.0,label=\"Master equation non-secular\")\n",
    "axes2.plot(tlist , P12MENSRC,  color=\"black\", ls=\"--\", alpha=1, linewidth=2.0,label=\"Reaction coordinate\")\n",
    "\n",
    "axes2.set_xlabel(r'$\\epsilon t$', fontsize=28)\n",
    "axes2.set_ylabel(r'$\\rho_{12}$', fontsize=28)\n",
    "\n",
    "ticks = [0,-.1,-.2]\n",
    "axes2.set_yticks(ticks)\n",
    "axes2.set_yticklabels([\"0\",\"-0.1\",\"-0.2\"], fontsize=24);\n",
    "\n",
    "ticks = [.0,10.,20.]\n",
    "axes2.set_xticks(ticks)\n",
    "axes2.set_xticklabels([\"0\",\"10\",\"20\"], fontsize=24);\n",
    "\n",
    "#axes1.set_xlim(-1.2, 1.2);\n",
    "axes2.set_ylim(-0.25,0.);\n",
    "\n",
    "axes2.legend(loc=0, fontsize=18)\n",
    "\n",
    "\n",
    "fig.savefig(\"heom1.png\")\n"
   ]
  },
  {
   "cell_type": "markdown",
   "metadata": {
    "slideshow": {
     "slide_type": "slide"
    }
   },
   "source": [
    "\n",
    "Next try lets try some parameters where BMS should break, \n",
    "\n",
    "$\\gamma=0.1 \\epsilon$  $\\quad$ Narrow environment, long memory time... Non-Markovian...\n",
    "\n",
    "$\\lambda = 0.2 \\epsilon$  $\\quad$ Large coupling, Born-approximation breaks.\n",
    "\n",
    "$\\beta = \\epsilon$  $\\quad$ Same as before..."
   ]
  },
  {
   "cell_type": "code",
   "execution_count": 214,
   "metadata": {
    "slideshow": {
     "slide_type": "skip"
    }
   },
   "outputs": [],
   "source": [
    "eps = 1.0    # Tunnelling term\n",
    "Hsys =  0.5 * eps * sigmax()\n",
    "#Coupling operator to the bath:\n",
    "sm = destroy(2).dag()\n",
    "Q = sigmaz()\n",
    "\n",
    "\n",
    "gamma = .1                # Cutoff frequency of DL spectral density\n",
    "lam = 0.2           # Coupling strength of DL spectral density\n",
    "\n",
    "temperature = 1.     # Temperature of environment\n",
    "\n",
    "tlist = np.linspace(0, 20, 800) #time steps\n",
    "\n",
    "Ncut = 25\n",
    "#K is the matsubara terms; if temperature < system energy,  N>1\n",
    "Nk=3\n"
   ]
  },
  {
   "cell_type": "code",
   "execution_count": 215,
   "metadata": {
    "slideshow": {
     "slide_type": "skip"
    }
   },
   "outputs": [],
   "source": [
    "def J0(energy):\n",
    "    #underdamped brownian oscillator\n",
    "    return 2 * lam * gamma * (energy)/(np.pi * ((energy**2) + (gamma**2)))\n",
    "def nbs(energy,Temperature):\n",
    "    beta=1./Temperature\n",
    "    \n",
    "    return 1./(np.exp(energy*beta) - 1.)\n",
    "\n",
    "#spectral density/w at w=0\n",
    "def J02(energy):\n",
    "    #underdamped brownian oscillator\n",
    "    return 2 * lam * gamma /(np.pi * ((gamma**2)))\n",
    "\n",
    "\n",
    "\n"
   ]
  },
  {
   "cell_type": "markdown",
   "metadata": {
    "slideshow": {
     "slide_type": "slide"
    }
   },
   "source": [
    "The relaxation time is roughly \n",
    "$\\tau_R \\approx 1/\\pi J(\\epsilon)n(\\epsilon)$\n"
   ]
  },
  {
   "cell_type": "code",
   "execution_count": 165,
   "metadata": {
    "slideshow": {
     "slide_type": "fragment"
    }
   },
   "outputs": [
    {
     "name": "stdout",
     "output_type": "stream",
     "text": [
      "43.386616168590876\n"
     ]
    }
   ],
   "source": [
    "print(1./(np.pi*J0(1.0)*nbs(1.0,temperature)))\n"
   ]
  },
  {
   "cell_type": "markdown",
   "metadata": {
    "slideshow": {
     "slide_type": "fragment"
    }
   },
   "source": [
    "The largest environment correlation times are\n",
    "$\\tau_E \\approx 1/\\gamma,  1/2 \\pi k_B T $"
   ]
  },
  {
   "cell_type": "code",
   "execution_count": 166,
   "metadata": {
    "scrolled": true,
    "slideshow": {
     "slide_type": "fragment"
    }
   },
   "outputs": [
    {
     "name": "stdout",
     "output_type": "stream",
     "text": [
      "10.0\n",
      "0.15915494309189535\n"
     ]
    }
   ],
   "source": [
    "print(1/gamma)\n",
    "print(1/(2 * np.pi * temperature))"
   ]
  },
  {
   "cell_type": "markdown",
   "metadata": {
    "slideshow": {
     "slide_type": "fragment"
    }
   },
   "source": [
    "The system time scale is $\\tau_S \\approx 1/\\epsilon$, so $\\tau_S \\ll \\tau_R$ seems ok, but now $\\tau_E > \\tau_S$, so Markov approximation should break"
   ]
  },
  {
   "cell_type": "code",
   "execution_count": 216,
   "metadata": {
    "slideshow": {
     "slide_type": "slide"
    }
   },
   "outputs": [],
   "source": [
    "# Configure the solver\n",
    "from qutip.nonmarkov.heom import HSolverDL\n",
    "hsolver = HSolverDL(Hsys, Q, lam, temperature, Ncut, Nk, gamma, stats=True)\n",
    "resultHEOM = hsolver.run(rho0, tlist)"
   ]
  },
  {
   "cell_type": "code",
   "execution_count": 217,
   "metadata": {
    "slideshow": {
     "slide_type": "fragment"
    }
   },
   "outputs": [
    {
     "name": "stdout",
     "output_type": "stream",
     "text": [
      "2\n"
     ]
    }
   ],
   "source": [
    "#lets compare to the BMS solution,\n",
    " \n",
    "resultMEsec = mesolve(Hsys, rho0, tlist, [np.sqrt(2*np.pi*J0(1.0)*(nbs(1.0,temperature)+1.))*smt,np.sqrt(2*np.pi*J0(1.0)*nbs(1.0,temperature))*smt.dag()], [])\n",
    "resultMEnonsec = Lnonsec(Hsys, Q, tlist, rho0, temperature, [])"
   ]
  },
  {
   "cell_type": "code",
   "execution_count": 218,
   "metadata": {
    "slideshow": {
     "slide_type": "skip"
    }
   },
   "outputs": [],
   "source": [
    "DL = \" 2*pi* 2.0 * {lam} / (pi * {gamma} * {beta})  if (w==0) else 2*pi*(2.0*{lam}*{gamma} *w /(pi*(w**2+{gamma}**2))) * ((1/(exp((w) * {beta})-1))+1)\".format(gamma=gamma, beta = beta, lam = lam)\n",
    "\n",
    "optionsODE = Options(nsteps=15000, store_states=True,rtol=1e-12,atol=1e-12)\n",
    "outputBR  =  brmesolve(Hsys, rho0, tlist, a_ops=[[sigmaz(),DL]], options = optionsODE)\n"
   ]
  },
  {
   "cell_type": "code",
   "execution_count": 219,
   "metadata": {
    "slideshow": {
     "slide_type": "skip"
    }
   },
   "outputs": [
    {
     "name": "stdout",
     "output_type": "stream",
     "text": [
      "2.0\n",
      "1.2649110640673518\n",
      "0.15651764274966565\n",
      "30\n"
     ]
    }
   ],
   "source": [
    "dot_energy, dot_state = Hsys.eigenstates()\n",
    "deltaE = dot_energy[1] - dot_energy[0]\n",
    "\n",
    "#gamma2 = 5*deltaE / (2 * np.pi * gamma)\n",
    "#wa = 2 * np.pi * gamma2 *   gamma # reaction coordinate frequency >> gamma\n",
    "#g = np.sqrt(np.pi * wa * lam / 2.0)  # reaction coordinate coupling\n",
    "#g = np.sqrt(np.pi * wa * lam / 4.0)  # reaction coordinate coupling Factor over 2 because of diff in J(w) (I have 2 lam now)\n",
    "#nb = (1 / (np.exp(wa/w_th) - 1))\n",
    "\n",
    "wa = 20*gamma\n",
    "gamma2 = wa**2/gamma\n",
    "g = np.sqrt(2*lam*(wa**2))\n",
    "print(wa)\n",
    "print(g)\n",
    "nb = (1 / (np.exp(wa/temperature) - 1))\n",
    "print(nb)\n",
    "NRC = 15\n",
    "\n",
    "Hsys_exp = tensor(qeye(NRC), Hsys)\n",
    "Q_exp = tensor(qeye(NRC), Q)\n",
    "a = tensor(destroy(NRC), qeye(2))\n",
    "#Q_coup = a+a.dag()\n",
    "Q_coup = (a+a.dag())/np.sqrt(2*wa)\n",
    "H0 = wa * a.dag() * a + Hsys_exp\n",
    "# interaction\n",
    "#H1 = (g * (a.dag() + a) * Q_exp)\n",
    "H1 = (g * (a.dag() + a) * Q_exp)/np.sqrt(2*wa)\n",
    "\n",
    "H = H0 + H1\n",
    "\n",
    "def J0(energy):\n",
    "    #underdamped brownian oscillator\n",
    "    return gamma2 * (energy) /np.pi\n",
    "#lets compare to the BMS solution,\n",
    "\n",
    "rho0_exp=tensor(thermal_dm(NRC, nb), rho0)\n",
    "resultMEnonsecRC = Lnonsec(H, Q_coup, tlist, rho0_exp, temperature, [])\n",
    "    "
   ]
  },
  {
   "cell_type": "markdown",
   "metadata": {
    "slideshow": {
     "slide_type": "fragment"
    }
   },
   "source": [
    "<center>\n",
    "<img src=\"heom2.png\" width=800 />\n",
    "</center>"
   ]
  },
  {
   "cell_type": "code",
   "execution_count": 220,
   "metadata": {
    "slideshow": {
     "slide_type": "skip"
    }
   },
   "outputs": [
    {
     "name": "stderr",
     "output_type": "stream",
     "text": [
      "E:\\anaconda3\\envs\\vanilla2\\lib\\site-packages\\numpy\\core\\_asarray.py:102: ComplexWarning: Casting complex values to real discards the imaginary part\n",
      "  return array(a, dtype, copy=False, order=order)\n",
      "E:\\anaconda3\\envs\\vanilla2\\lib\\site-packages\\numpy\\core\\_asarray.py:102: ComplexWarning: Casting complex values to real discards the imaginary part\n",
      "  return array(a, dtype, copy=False, order=order)\n",
      "E:\\anaconda3\\envs\\vanilla2\\lib\\site-packages\\numpy\\core\\_asarray.py:102: ComplexWarning: Casting complex values to real discards the imaginary part\n",
      "  return array(a, dtype, copy=False, order=order)\n",
      "E:\\anaconda3\\envs\\vanilla2\\lib\\site-packages\\numpy\\core\\_asarray.py:102: ComplexWarning: Casting complex values to real discards the imaginary part\n",
      "  return array(a, dtype, copy=False, order=order)\n",
      "E:\\anaconda3\\envs\\vanilla2\\lib\\site-packages\\numpy\\core\\_asarray.py:102: ComplexWarning: Casting complex values to real discards the imaginary part\n",
      "  return array(a, dtype, copy=False, order=order)\n"
     ]
    },
    {
     "data": {
      "image/png": "[encoded data removed]",
      "text/plain": [
       "<Figure size 1080x432 with 2 Axes>"
      ]
     },
     "metadata": {
      "needs_background": "light"
     },
     "output_type": "display_data"
    }
   ],
   "source": [
    "\n",
    "P1p=rho0\n",
    "#psi01 = (basis(2,0)-basis(2,1))/np.sqrt(2.)\n",
    "psi01 = basis(2,1)\n",
    "P12p=psi0*psi01.dag()\n",
    "\n",
    "P1HEOM=expect(resultHEOM.states,P1p)\n",
    "P12HEOM=expect(resultHEOM.states,P12p)\n",
    "\n",
    "\n",
    "P1ME=expect(resultMEsec.states,P1p)\n",
    "P12ME=expect(resultMEsec.states,P12p)\n",
    "\n",
    "P1BR=expect(outputBR.states,P1p)\n",
    "P12BR=expect(outputBR.states,P12p)\n",
    "\n",
    "P1MENS=expect(resultMEnonsec.states,P1p)\n",
    "P12MENS=expect(resultMEnonsec.states,P12p)\n",
    "\n",
    "import matplotlib.gridspec as gridspec\n",
    "fig = plt.figure(figsize=(15,6))\n",
    "\n",
    "gs1 = gridspec.GridSpec(1, 2)\n",
    "gs1.update(wspace=.5, hspace=1.3) # set the spacing between axes. \n",
    "########################################################################\n",
    "axes1 = plt.subplot(gs1[0])\n",
    "\n",
    "\n",
    "P1MENSRC=expect(resultMEnonsecRC.states,tensor(qeye(NRC),P1p))\n",
    "P12MENSRC=expect(resultMEnonsecRC.states,tensor(qeye(NRC),P12p))\n",
    "\n",
    "axes1.plot(tlist, P1HEOM,  color=\"teal\", ls=\"-\", alpha=1, linewidth=2.0,label=\"Hierarchy\")\n",
    "axes1.plot(tlist , P1ME,  color=\"orange\", ls=\"-\", alpha=1, linewidth=2.0,label=\"Master equation secular\")\n",
    "axes1.plot(tlist , P1BR,  color=\"blue\", ls=\"-.\", alpha=1, linewidth=2.0,label=\"Bloch Redfield solver\")\n",
    "axes1.plot(tlist , P1MENS,  color=\"red\", ls=\"--\", alpha=0.5, linewidth=2.0,label=\"Master equation non-secular\")\n",
    "axes1.plot(tlist , P1MENSRC,  color=\"black\", ls=\"--\", alpha=1.0, linewidth=2.0,label=\"Reaction coordinate\")\n",
    "\n",
    "\n",
    "axes1.set_ylabel(r'$\\rho_{11}$', fontsize=28)\n",
    "axes1.set_xlabel(r'$\\epsilon t$', fontsize=28)\n",
    "\n",
    "ticks = [0,0.5,1.0]\n",
    "axes1.set_yticks(ticks)\n",
    "axes1.set_yticklabels([\"0\",\"0.5\",\"1.0\"], fontsize=24);\n",
    "\n",
    "ticks = [.0,10.,20.]\n",
    "axes1.set_xticks(ticks)\n",
    "axes1.set_xticklabels([\"0\",\"10\",\"20\"], fontsize=24);\n",
    "\n",
    "axes1.legend(loc=4, fontsize=12)\n",
    "\n",
    "\n",
    "\n",
    "axes1.set_title('$\\lambda=0.2 \\epsilon$, $\\gamma = 0.1 \\epsilon$, $k_{B}T=\\epsilon $ ',fontsize=24,y=1.05,x=1.0)\n",
    "\n",
    "\n",
    "\n",
    "axes2 = plt.subplot(gs1[1])\n",
    "\n",
    "\n",
    "axes2.plot(tlist, P12HEOM,  color=\"teal\", ls=\"-\", alpha=1, linewidth=2.0,label=\"Hierarchy\")\n",
    "axes2.plot(tlist , P12ME,  color=\"orange\", ls=\"-\", alpha=1, linewidth=2.0,label=\"Master equation secular\")\n",
    "axes2.plot(tlist , P12BR,  color=\"blue\", ls=\"-.\", alpha=1, linewidth=2.0,label=\"Bloch redfield\")\n",
    "axes2.plot(tlist , P12MENS,  color=\"red\", ls=\"--\", alpha=0.5, linewidth=2.0,label=\"Master equation non-secular\")\n",
    "axes2.plot(tlist , P12MENSRC,  color=\"black\", ls=\"--\", alpha=1, linewidth=2.0,label=\"Reaction coordinate\")\n",
    "\n",
    "axes2.set_xlabel(r'$\\epsilon t$', fontsize=28)\n",
    "axes2.set_ylabel(r'$\\rho_{12}$', fontsize=28)\n",
    "\n",
    "ticks = [0,-.1,-.2]\n",
    "axes2.set_yticks(ticks)\n",
    "axes2.set_yticklabels([\"0\",\"-0.1\",\"-0.2\"], fontsize=24);\n",
    "\n",
    "ticks = [.0,10.,20.]\n",
    "axes2.set_xticks(ticks)\n",
    "axes2.set_xticklabels([\"0\",\"10\",\"20\"], fontsize=24);\n",
    "\n",
    "#axes1.set_xlim(-1.2, 1.2);\n",
    "axes2.set_ylim(-0.25,0.);\n",
    "\n",
    "axes2.legend(loc=0, fontsize=18)\n",
    "\n",
    "\n",
    "\n",
    "fig.savefig(\"heom2.png\")\n"
   ]
  },
  {
   "cell_type": "markdown",
   "metadata": {
    "slideshow": {
     "slide_type": "slide"
    }
   },
   "source": [
    "Next try lets try some parameters where secular approximation should break, but Born-Markov is ok \n",
    "\n",
    "$\\gamma=10 \\epsilon$  $\\quad$\n",
    "As before (Markovian)\n",
    "\n",
    "$\\lambda = 0.5 \\epsilon$  $\\quad$ \n",
    "Strong coupling..\n",
    "\n",
    "$\\beta = 0.25\\epsilon$  $\\quad$\n",
    "Large temperature..."
   ]
  },
  {
   "cell_type": "code",
   "execution_count": 221,
   "metadata": {
    "slideshow": {
     "slide_type": "skip"
    }
   },
   "outputs": [],
   "source": [
    "eps = 1.0    # Tunnelling term\n",
    "Hsys =  0.5 * eps * sigmax()\n",
    "#Coupling operator to the bath:\n",
    "sm = destroy(2).dag()\n",
    "Q = sigmaz()\n",
    "\n",
    "\n",
    "gamma = 10.                # Cutoff frequency of DL spectral density\n",
    "lam = .5           # Coupling strength of DL spectral density\n",
    "\n",
    "temperature = 4.     # Temperature of environment\n",
    "\n",
    "tlist = np.linspace(0, 20, 800) #time steps\n",
    "\n",
    "psi0=basis(2,0)\n",
    "#psi0=basis(2,0)  #initial state of system.\n",
    "rho0=psi0*psi0.dag()\n",
    "\n",
    "Ncut = 25\n",
    "#K is the matsubara terms; if temperature < system energy,  N>1\n",
    "Nk=3\n"
   ]
  },
  {
   "cell_type": "code",
   "execution_count": 222,
   "metadata": {
    "slideshow": {
     "slide_type": "skip"
    }
   },
   "outputs": [],
   "source": [
    "def J0(energy):\n",
    "    #underdamped brownian oscillator\n",
    "    return 2 * lam * gamma * (energy)/(np.pi * ((energy**2) + (gamma**2)))\n",
    "def nbs(energy,Temperature):\n",
    "    beta=1./Temperature\n",
    "    \n",
    "    return 1./(np.exp(energy*beta) - 1.)\n",
    "\n",
    "#spectral density/w at w=0\n",
    "def J02(energy):\n",
    "    #underdamped brownian oscillator\n",
    "    return 2 * lam * gamma /(np.pi * ((gamma**2)))\n",
    "\n",
    "\n"
   ]
  },
  {
   "cell_type": "markdown",
   "metadata": {
    "slideshow": {
     "slide_type": "slide"
    }
   },
   "source": [
    "The relaxation time is roughly \n",
    "$\\tau_R \\approx 1/\\pi J(\\epsilon)n(\\epsilon)$\n"
   ]
  },
  {
   "cell_type": "code",
   "execution_count": 48,
   "metadata": {
    "slideshow": {
     "slide_type": "fragment"
    }
   },
   "outputs": [
    {
     "name": "stdout",
     "output_type": "stream",
     "text": [
      "2.2341120909788104\n"
     ]
    }
   ],
   "source": [
    "print(1./(np.pi*J0(1.0)*(nbs(1.0,temperature)+1.)))\n",
    "\n"
   ]
  },
  {
   "cell_type": "markdown",
   "metadata": {
    "slideshow": {
     "slide_type": "fragment"
    }
   },
   "source": [
    "The largest environment correlation times are\n",
    "$\\tau_E \\approx 1/\\gamma,  1/2 \\pi k_B T $"
   ]
  },
  {
   "cell_type": "code",
   "execution_count": 49,
   "metadata": {
    "scrolled": true,
    "slideshow": {
     "slide_type": "fragment"
    }
   },
   "outputs": [
    {
     "name": "stdout",
     "output_type": "stream",
     "text": [
      "0.1\n",
      "0.039788735772973836\n"
     ]
    }
   ],
   "source": [
    "print(1/gamma)\n",
    "print(1/(2 * np.pi * temperature))"
   ]
  },
  {
   "cell_type": "markdown",
   "metadata": {
    "slideshow": {
     "slide_type": "fragment"
    }
   },
   "source": [
    "The system time scale is $\\tau_S \\approx 1/\\epsilon$, so now $\\tau_R \\approx \\tau_S$, so Secular appoximation should break"
   ]
  },
  {
   "cell_type": "code",
   "execution_count": 223,
   "metadata": {
    "slideshow": {
     "slide_type": "slide"
    }
   },
   "outputs": [],
   "source": [
    "# Configure the solver\n",
    "from qutip.nonmarkov.heom import HSolverDL\n",
    "hsolver = HSolverDL(Hsys, Q, lam, temperature, Ncut, Nk, gamma, stats=True)\n",
    "resultHEOM = hsolver.run(rho0, tlist)"
   ]
  },
  {
   "cell_type": "code",
   "execution_count": 224,
   "metadata": {
    "slideshow": {
     "slide_type": "fragment"
    }
   },
   "outputs": [
    {
     "name": "stdout",
     "output_type": "stream",
     "text": [
      "2\n"
     ]
    }
   ],
   "source": [
    "#lets compare to the BMS solution,\n",
    " \n",
    "resultMEsec = mesolve(Hsys, rho0, tlist, [np.sqrt(2*np.pi*J0(1.0)*(nbs(1.0,temperature)+1.))*smt,np.sqrt(2*np.pi*J0(1.0)*nbs(1.0,temperature))*smt.dag()], [])\n",
    "resultMEnonsec = Lnonsec(Hsys, Q, tlist, rho0, temperature, [])"
   ]
  },
  {
   "cell_type": "code",
   "execution_count": 225,
   "metadata": {
    "slideshow": {
     "slide_type": "skip"
    }
   },
   "outputs": [],
   "source": [
    "beta = 1/temperature\n",
    "DL = \" 2*pi* 2.0 * {lam} / (pi * {gamma} * {beta})  if (w==0) else 2*pi*(2.0*{lam}*{gamma} *w /(pi*(w**2+{gamma}**2))) * ((1/(exp((w) * {beta})-1))+1)\".format(gamma=gamma, beta = beta, lam = lam)\n",
    "\n",
    "optionsODE = Options(nsteps=15000, store_states=True,rtol=1e-12,atol=1e-12)\n",
    "outputBR  =  brmesolve(Hsys, rho0, tlist, a_ops=[[sigmaz(),DL]], options = optionsODE)\n"
   ]
  },
  {
   "cell_type": "code",
   "execution_count": 226,
   "metadata": {
    "slideshow": {
     "slide_type": "skip"
    }
   },
   "outputs": [
    {
     "name": "stdout",
     "output_type": "stream",
     "text": [
      "20.0\n",
      "20.0\n",
      "0.006783654906304231\n",
      "30\n"
     ]
    }
   ],
   "source": [
    "dot_energy, dot_state = Hsys.eigenstates()\n",
    "deltaE = dot_energy[1] - dot_energy[0]\n",
    "\n",
    "#gamma2 = 5*deltaE / (2 * np.pi * gamma)\n",
    "#wa = 2 * np.pi * gamma2 *   gamma # reaction coordinate frequency >> gamma\n",
    "#g = np.sqrt(np.pi * wa * lam / 2.0)  # reaction coordinate coupling\n",
    "#g = np.sqrt(np.pi * wa * lam / 4.0)  # reaction coordinate coupling Factor over 2 because of diff in J(w) (I have 2 lam now)\n",
    "#nb = (1 / (np.exp(wa/w_th) - 1))\n",
    "\n",
    "wa = 2*gamma\n",
    "gamma2 = wa**2/gamma\n",
    "g = np.sqrt(2*lam*(wa**2))\n",
    "print(wa)\n",
    "print(g)\n",
    "nb = (1 / (np.exp(wa/temperature) - 1))\n",
    "print(nb)\n",
    "NRC = 15\n",
    "\n",
    "Hsys_exp = tensor(qeye(NRC), Hsys)\n",
    "Q_exp = tensor(qeye(NRC), Q)\n",
    "a = tensor(destroy(NRC), qeye(2))\n",
    "#Q_coup = a+a.dag()\n",
    "Q_coup = (a+a.dag())/np.sqrt(2*wa)\n",
    "H0 = wa * a.dag() * a + Hsys_exp\n",
    "# interaction\n",
    "#H1 = (g * (a.dag() + a) * Q_exp)\n",
    "H1 = (g * (a.dag() + a) * Q_exp)/np.sqrt(2*wa)\n",
    "\n",
    "H = H0 + H1\n",
    "\n",
    "def J0(energy):\n",
    "    #underdamped brownian oscillator\n",
    "    return gamma2 * (energy) /np.pi\n",
    "#lets compare to the BMS solution,\n",
    "\n",
    "rho0_exp=tensor(thermal_dm(NRC, nb), rho0)\n",
    "resultMEnonsecRC = Lnonsec(H, Q_coup, tlist, rho0_exp, temperature, [])\n",
    "    "
   ]
  },
  {
   "cell_type": "markdown",
   "metadata": {
    "slideshow": {
     "slide_type": "slide"
    }
   },
   "source": [
    "<center>\n",
    "<img src=\"heom4.png\" width=800 />\n",
    "</center>"
   ]
  },
  {
   "cell_type": "code",
   "execution_count": 228,
   "metadata": {
    "slideshow": {
     "slide_type": "skip"
    }
   },
   "outputs": [
    {
     "name": "stderr",
     "output_type": "stream",
     "text": [
      "E:\\anaconda3\\envs\\vanilla2\\lib\\site-packages\\numpy\\core\\_asarray.py:102: ComplexWarning: Casting complex values to real discards the imaginary part\n",
      "  return array(a, dtype, copy=False, order=order)\n",
      "E:\\anaconda3\\envs\\vanilla2\\lib\\site-packages\\numpy\\core\\_asarray.py:102: ComplexWarning: Casting complex values to real discards the imaginary part\n",
      "  return array(a, dtype, copy=False, order=order)\n",
      "E:\\anaconda3\\envs\\vanilla2\\lib\\site-packages\\numpy\\core\\_asarray.py:102: ComplexWarning: Casting complex values to real discards the imaginary part\n",
      "  return array(a, dtype, copy=False, order=order)\n",
      "E:\\anaconda3\\envs\\vanilla2\\lib\\site-packages\\numpy\\core\\_asarray.py:102: ComplexWarning: Casting complex values to real discards the imaginary part\n",
      "  return array(a, dtype, copy=False, order=order)\n",
      "E:\\anaconda3\\envs\\vanilla2\\lib\\site-packages\\numpy\\core\\_asarray.py:102: ComplexWarning: Casting complex values to real discards the imaginary part\n",
      "  return array(a, dtype, copy=False, order=order)\n"
     ]
    },
    {
     "data": {
      "image/png": "[encoded data removed]",
      "text/plain": [
       "<Figure size 1080x432 with 2 Axes>"
      ]
     },
     "metadata": {
      "needs_background": "light"
     },
     "output_type": "display_data"
    }
   ],
   "source": [
    "\n",
    "P1p=rho0\n",
    "psi01 = (basis(2,1))\n",
    "\n",
    "P12p=psi0*psi01.dag()\n",
    "\n",
    "P1HEOM=expect(resultHEOM.states,P1p)\n",
    "P12HEOM=expect(resultHEOM.states,P12p)\n",
    "\n",
    "P1BR=expect(outputBR.states,P1p)\n",
    "P12BR=expect(outputBR.states,P12p)\n",
    "\n",
    "P1ME=expect(resultMEsec.states,P1p)\n",
    "P12ME=expect(resultMEsec.states,P12p)\n",
    "\n",
    "\n",
    "P1MENS=expect(resultMEnonsec.states,P1p)\n",
    "P12MENS=expect(resultMEnonsec.states,P12p)\n",
    "\n",
    "import matplotlib.gridspec as gridspec\n",
    "fig = plt.figure(figsize=(15,6))\n",
    "\n",
    "gs1 = gridspec.GridSpec(1, 2)\n",
    "gs1.update(wspace=.5, hspace=1.3) # set the spacing between axes. \n",
    "########################################################################\n",
    "axes1 = plt.subplot(gs1[0])\n",
    "\n",
    "P1MENSRC=expect(resultMEnonsecRC.states,tensor(qeye(NRC),P1p))\n",
    "P12MENSRC=expect(resultMEnonsecRC.states,tensor(qeye(NRC),P12p))\n",
    "\n",
    "axes1.plot(tlist, P1HEOM,  color=\"teal\", ls=\"-\", alpha=1, linewidth=2.0,label=\"Hierarchy\")\n",
    "axes1.plot(tlist , P1ME,  color=\"orange\", ls=\"-\", alpha=1, linewidth=2.0,label=\"Master equation secular\")\n",
    "axes1.plot(tlist , P1BR,  color=\"blue\", ls=\"-.\", alpha=1, linewidth=2.0,label=\"Bloch Redfield solver\")\n",
    "axes1.plot(tlist , P1MENS,  color=\"red\", ls=\"--\", alpha=0.5, linewidth=2.0,label=\"Master equation non-secular\")\n",
    "axes1.plot(tlist , P1MENSRC,  color=\"black\", ls=\"--\", alpha=1.0, linewidth=2.0,label=\"Reaction coordinate\")\n",
    "\n",
    "\n",
    "\n",
    "\n",
    "axes1.set_ylabel(r'$\\rho_{11}$', fontsize=28)\n",
    "axes1.set_xlabel(r'$\\epsilon t$', fontsize=28)\n",
    "\n",
    "ticks = [0,0.5,1.0]\n",
    "axes1.set_yticks(ticks)\n",
    "axes1.set_yticklabels([\"0\",\"0.5\",\"1.0\"], fontsize=24);\n",
    "\n",
    "ticks = [.0,10.,20.]\n",
    "axes1.set_xticks(ticks)\n",
    "axes1.set_xticklabels([\"0\",\"10\",\"20\"], fontsize=24);\n",
    "\n",
    "axes1.legend(loc=4, fontsize=12)\n",
    "\n",
    "\n",
    "\n",
    "axes1.set_title('$\\lambda=0.5 \\epsilon$, $\\gamma = 10 \\epsilon$, $k_{B}T=4\\epsilon $ ',fontsize=24,y=1.05,x=1.0)\n",
    "\n",
    "\n",
    "\n",
    "axes2 = plt.subplot(gs1[1])\n",
    "\n",
    "\n",
    "axes2.plot(tlist, P12HEOM,  color=\"teal\", ls=\"-\", alpha=1, linewidth=2.0,label=\"Hierarchy\")\n",
    "axes2.plot(tlist , P12ME,  color=\"orange\", ls=\"-\", alpha=1, linewidth=2.0,label=\"Master equation Secular\")\n",
    "axes2.plot(tlist , P12BR,  color=\"blue\", ls=\"-.\", alpha=1, linewidth=2.0,label=\"Bloch Redfield\")\n",
    "axes2.plot(tlist , P12MENS,  color=\"red\", ls=\"--\", alpha=0.5, linewidth=2.0,label=\"Master equation non-secular\")\n",
    "axes2.plot(tlist , P12MENSRC,  color=\"black\", ls=\"--\", alpha=1, linewidth=2.0,label=\"Reaction coordinate\")\n",
    "\n",
    "axes2.set_xlabel(r'$\\epsilon t$', fontsize=28)\n",
    "axes2.set_ylabel(r'$\\rho_{12}$', fontsize=28)\n",
    "\n",
    "ticks = [0,-.1,-.2]\n",
    "axes2.set_yticks(ticks)\n",
    "axes2.set_yticklabels([\"0\",\"-0.1\",\"-0.2\"], fontsize=24);\n",
    "\n",
    "ticks = [.0,10.,20.]\n",
    "axes2.set_xticks(ticks)\n",
    "axes2.set_xticklabels([\"0\",\"10\",\"20\"], fontsize=24);\n",
    "\n",
    "#axes1.set_xlim(-1.2, 1.2);\n",
    "axes2.set_ylim(-0.25,0.);\n",
    "\n",
    "axes2.legend(loc=0, fontsize=18)\n",
    "\n",
    "\n",
    "\n",
    "fig.savefig(\"heom4.png\")\n"
   ]
  },
  {
   "cell_type": "markdown",
   "metadata": {
    "slideshow": {
     "slide_type": "slide"
    }
   },
   "source": [
    "# The HEOM and FMO\n",
    "\n",
    "Let us return back to the FMO result. We saw the simulation from our Lindblad model already.  Similarly, lets use the same spectral density and temperature in the HEOM model.\n",
    "\n"
   ]
  },
  {
   "cell_type": "code",
   "execution_count": 189,
   "metadata": {
    "slideshow": {
     "slide_type": "skip"
    }
   },
   "outputs": [
    {
     "name": "stdout",
     "output_type": "stream",
     "text": [
      "[(5.072528597792653e+26+0j)]\n",
      "[(-1.3194689145077131e+26+0j)]\n",
      "[(20000000000000+0j)]\n",
      "[(20000000000000+0j)]\n"
     ]
    },
    {
     "name": "stderr",
     "output_type": "stream",
     "text": [
      "/mnt/e/Dropbox/Dropbox/talks/todai talk 2020/heom_fmotd_NL.py:244: UserWarning: Expected simplified input.\n",
      "  warnings.warn(\"Expected simplified input.\")\n",
      "/mnt/e/Dropbox/Dropbox/talks/todai talk 2020/heom_fmotd_NL.py:249: UserWarning: Expected simplified input.\n",
      "  warnings.warn(\"Expected simplified input.\")\n"
     ]
    }
   ],
   "source": [
    "\n",
    "\n",
    "from heom_fmotd_NL import BosonicHEOMSolver\n",
    "\n",
    "\n",
    "Hsys =  3e10 * 2 * pi *Qobj([[200, -87.7, 5.5, -5.9, 6.7, -13.7, -9.9],\n",
    "                    [-87.7, 320, 30.8, 8.2, 0.7, 11.8, 4.3],\n",
    "                    [5.5, 30.8, 0, -53.5, -2.2, -9.6, 6.0],\n",
    "                    [-5.9, 8.2, -53.5, 110, -70.7, -17.0, -63.3],\n",
    "                    [6.7, 0.7, -2.2, -70.7, 270, 81.1, -1.3],\n",
    "                    [-13.7,11.8, -9.6, -17.0 ,81.1, 420, 39.7],\n",
    "                    [-9.9, 4.3, 6.0, -63.3, -1.3, 39.7, 230]])\n",
    "\n",
    "\n",
    "#start the excitation at site :1:\n",
    "rho0 = basis(7,0)*basis(7,0).dag() \n",
    "\n",
    "#time...  .15 = how many ps?  around 1, but need to get units correct\n",
    "tlist = linspace(0,1.4e-12,1000)\n",
    "eigen_sparse = False\n",
    "calc_time = True                                             \n",
    "\n",
    "# might as well use Q as projectors for site populations for plotting, but whatever\n",
    "P1=basis(7,0) * basis(7,0).dag()\n",
    "P2=basis(7,1) * basis(7,1).dag()\n",
    "\n",
    "optionsODE = Options(nsteps=15000, store_states=True,rtol=1e-17,atol=1e-17)\n",
    "#\n",
    "Nc = 4\n",
    "#K is the matsubara terms; if temperature < system energy,  N>1\n",
    "Nk = 1\n",
    "#version with all bath parameters the same\n",
    "lam = 35 * 3e10 * 2 * pi\n",
    "gamma = (1/(50e-15))\n",
    "T = Temperature = 300 * 0.6949 * 3e10 * 2 * pi\n",
    "\n",
    "beta = 1/T\n",
    "\n",
    "pref = 1\n",
    "\n",
    "ckAR = [pref * lam * gamma * (cot(gamma / (2 * T))) + 0.j]\n",
    "ckAR.extend([(pref * 4 * lam * gamma * T *  2 * np.pi * k * T / (( 2 * np.pi * k * T)**2 - gamma**2))+0.j for k in range(1,Nk)])\n",
    "\n",
    "vkAR = [gamma+0.j]\n",
    "vkAR.extend([2 * np.pi * k * T + 0.j for k in range(1,Nk)])\n",
    "\n",
    "ckAI = [pref * lam * gamma * (-1.0) + 0.j]\n",
    "\n",
    "vkAI = [gamma+0.j]\n",
    "\n",
    "print(ckAR)\n",
    "print(ckAI)\n",
    "print(vkAR)\n",
    "print(vkAI)\n",
    "\n",
    "Q=[basis(7,m)*basis(7,m).dag() for m in range(7)  ]\n",
    "\n",
    "NR = len(ckAR)\n",
    "NI = len(ckAI)\n",
    "Q2 = []\n",
    "ckAR2 = []\n",
    "ckAI2 = []\n",
    "vkAR2 = []\n",
    "vkAI2 = []\n",
    "for m in range(7):\n",
    "    Q2.extend([ basis(7,m)*basis(7,m).dag() for kk in range(NR)])\n",
    "    ckAR2.extend(ckAR)    \n",
    "    vkAR2.extend(vkAR)\n",
    "   \n",
    "for m in range(7):\n",
    "    Q2.extend([ basis(7,m)*basis(7,m).dag() for kk in range(NI)])\n",
    "    ckAI2.extend(ckAI)\n",
    "    vkAI2.extend(vkAI)\n",
    "    \n",
    "\n",
    "\n",
    "options = Options(nsteps=15000, store_states=True, rtol=1e-14, atol=1e-14)\n",
    "\n",
    "\n",
    "HEOMMats = BosonicHEOMSolver(Hsys, Q2, ckAR2, ckAI2, vkAR2, vkAI2, Nc, options=options)\n",
    "outputFMOHEOM=HEOMMats.run(rho0,tlist)\n",
    "\n",
    "#P1HEOM=expect(output.states,P1)\n",
    "#P2HEOM=expect(output.states,P2)\n",
    "#P1HEOM=expect(output.states,P1)\n",
    "#P2HEOM=expect(output.states,P2)\n",
    "\n",
    "\n",
    "\n"
   ]
  },
  {
   "cell_type": "code",
   "execution_count": 200,
   "metadata": {
    "slideshow": {
     "slide_type": "skip"
    }
   },
   "outputs": [
    {
     "data": {
      "image/png": "[encoded data removed]",
      "text/plain": [
       "<Figure size 864x576 with 1 Axes>"
      ]
     },
     "metadata": {
      "needs_background": "light"
     },
     "output_type": "display_data"
    }
   ],
   "source": [
    "fig, axes = plt.subplots(1,1, figsize=(12,8))\n",
    "for m in range(7):\n",
    "    Q =  basis(7,m)*basis(7,m).dag()\n",
    "    axes.plot(tlist, expect(outputFMOHEOM.states,Q),label=m+1)\n",
    "axes.set_xlabel(r'$t$', fontsize=20)\n",
    "axes.set_ylabel(r\"Population\", fontsize=16);\n",
    "\n",
    "\n",
    "axes.set_title('HEOM solution ',fontsize=24)\n",
    "axes.legend(loc=0, fontsize=18)\n",
    "\n",
    "\n",
    "fig.savefig(\"fmoheom.png\")\n",
    "\n"
   ]
  },
  {
   "cell_type": "markdown",
   "metadata": {
    "slideshow": {
     "slide_type": "fragment"
    }
   },
   "source": [
    " $\\lambda = 35$ cm$^{-1}$, $1/\\gamma = 50$ fs, $T=300$K, \n",
    "\n",
    "A | B | C\n",
    "- | - | - \n",
    "<img src=\"fmoheom.png\" alt=\"Drawing\" style=\"width: 550px;\"/> | <img src=\"fmosec2.png\" alt=\"Drawing\" style=\"width: 550px;\"/> |<img src=\"fmononsec2.png\" alt=\"Drawing\" style=\"width: 550px;\"/>"
   ]
  },
  {
   "cell_type": "markdown",
   "metadata": {
    "slideshow": {
     "slide_type": "slide"
    }
   },
   "source": [
    "Bloch-redfield does a little better (== Lindblad+dephasing but Secular)\n",
    "\n",
    "A | B \n",
    "- | -  \n",
    "<img src=\"fmoheom.png\" alt=\"Drawing\" style=\"width: 550px;\"/> | <img src=\"fmoBR.png\" alt=\"Drawing\" style=\"width: 550px;\"/>"
   ]
  },
  {
   "cell_type": "markdown",
   "metadata": {
    "slideshow": {
     "slide_type": "slide"
    }
   },
   "source": [
    "#### The difference here is not so clear...  when do pertubative methods clearly fail?\n",
    "Making the environment more 'non-Markovian' makes the coherence last longer\n",
    "\n",
    "<center>\n",
    "<img src=\"fmoalt.png\" width=800 />\n",
    "</center>"
   ]
  },
  {
   "cell_type": "markdown",
   "metadata": {
    "slideshow": {
     "slide_type": "slide"
    }
   },
   "source": [
    "What about changing the coupling strength?\n",
    "How can we capture which model predicts a better long-time efficiency of energy transport?\n",
    "\n",
    "Let's return back to our two-level example (these results are from J. Chem. Phys. (2016), Illes-Smith, Dijkstra, Lambert and Nazir).\n",
    "\n",
    "$$H_S = \\frac{\\epsilon}{2} \\sigma_z + \\frac{\\Delta}{2}\\sigma_x$$  \n",
    "\n",
    "where the eigenstates of $\\sigma_z$ represent the position of the excitation on the two chromophores, $\\sigma_z = |X_1, 0_2 \\rangle \\langle X_1,0_2| -|0_1,X_2\\rangle \\langle 0_1,X_2|$\n",
    "\n",
    "<center>\n",
    "<img src=\"simple3.png\"/>    \n",
    "</center>\n"
   ]
  },
  {
   "cell_type": "markdown",
   "metadata": {
    "slideshow": {
     "slide_type": "slide"
    }
   },
   "source": [
    "Efficiency relies on how quickly the excitation is moved from one chromophore to another (ultimately so that it can be moved to a reaction center).\n",
    "\n",
    "We can evaluate the dynamics of different models, and fit the long-time behavior to a rate:\n",
    "\n",
    "$$\\frac{dP_1(t)}{dt} = -k_{1\\rightarrow2} P_1 + k_{2\\rightarrow 1}P_2$$\n",
    "$$\\frac{dP_2(t)}{dt} = k_{1\\rightarrow2} P_1 -k_{2\\rightarrow 1}P_2$$\n",
    "\n"
   ]
  },
  {
   "cell_type": "markdown",
   "metadata": {
    "slideshow": {
     "slide_type": "slide"
    }
   },
   "source": [
    "\n",
    "\n",
    "A | B\n",
    "- | - \n",
    "<img src=\"rates1.png\" alt=\"Drawing\" style=\"width: 550px;\"/>| <img src=\"rates2.png\" alt=\"Drawing\" style=\"width: 450px;\"/>"
   ]
  },
  {
   "cell_type": "markdown",
   "metadata": {
    "slideshow": {
     "slide_type": "slide"
    }
   },
   "source": [
    "We can also evaluate this for spectral densities with broad background and resonant structures:\n",
    "\n",
    "<center>\n",
    "    <img src=\"rates4.png\" alt=\"Drawing\" style=\"width: 900px;\"/> \n",
    "</center>\n",
    "\n"
   ]
  },
  {
   "cell_type": "markdown",
   "metadata": {
    "slideshow": {
     "slide_type": "slide"
    }
   },
   "source": [
    "# Conclusions\n",
    "\n",
    "The study of open quantum systems lets us model how a system interacts with it environment in various limits:\n",
    "\n",
    "- Weak coupling, no bath memory (Markov), and weak damping gives us the Lindblad Born-Markov-Secular master equation\n",
    "$$\\tau_E \\ll \\tau_S \\ll \\tau_R$$\n",
    "- Exact methods (HEOM, reaction coordinate, pseudo-modes (Lambert et al, Nat. Comm. 2019) give insight into strongly correlated system-bath problems when this approximation no longer holds, and everything occurs on comparable time-scales\n",
    "$$\\tau_E \\approx \\tau_S \\approx \\tau_R$$\n",
    "\n"
   ]
  },
  {
   "cell_type": "markdown",
   "metadata": {
    "slideshow": {
     "slide_type": "slide"
    }
   },
   "source": [
    "\n",
    "\n",
    "\n",
    "### How does this help us study light-harvesting?\n",
    "\n",
    "- Comparing exact models, approximate models, and experimental data gives us insight more than each one alone.\n",
    "\n",
    "- E.g., in this example we saw that while the noise suppresses coherent oscillations, non-Markovian (resonant) environments can speed-up the transfer time of electronic energy across the whole complex,  which may be important for improving efficency.\n",
    "\n",
    "**All of these tools are useful for studying in noise in any type of quantum system:**  \n",
    "\n",
    "1- quantum computers, understanding and mitigating noise\n",
    "\n",
    "2- quantum optics, measurement and control\n",
    "\n",
    "3- condensed matter systems, electron transport, Fermionic environments\n",
    "....\n",
    "\n",
    "\n",
    "nwlambert@gmail.com"
   ]
  },
  {
   "cell_type": "markdown",
   "metadata": {
    "slideshow": {
     "slide_type": "slide"
    }
   },
   "source": [
    "# Generalizing the spectral density\n",
    "\n",
    "The Drude-Lorentz spectral density is convenient because we can <span style=\"color:red\">analytically expand it as exponentials </span>.\n",
    "\n",
    "In other cases, we can <span style=\"color:red\">numerically calculate</span> the correlation functions, and then <span style=\"color:red\">numerically fit</span> them to a sum of exponentials.\n",
    "\n",
    "As a simple example, we can bench-mark against the analytically solvable \"pure dephasing model\", i.e., we set the coupling operator equal to the system Hamiltonian \n",
    "\n",
    "(see A. fruchtman, N. Lambert, E. Gauger, Scientific Reports 2016 for more interesting examples)"
   ]
  },
  {
   "cell_type": "markdown",
   "metadata": {
    "slideshow": {
     "slide_type": "slide"
    }
   },
   "source": [
    "<img src=\"ohmic.png\" />"
   ]
  },
  {
   "cell_type": "markdown",
   "metadata": {
    "slideshow": {
     "slide_type": "slide"
    }
   },
   "source": [
    "<img src=\"superohmic.png\" />"
   ]
  }
 ],
 "metadata": {
  "anaconda-cloud": {},
  "celltoolbar": "Slideshow",
  "kernelspec": {
   "display_name": "Python 3",
   "language": "python",
   "name": "python3"
  },
  "language_info": {
   "codemirror_mode": {
    "name": "ipython",
    "version": 3
   },
   "file_extension": ".py",
   "mimetype": "text/x-python",
   "name": "python",
   "nbconvert_exporter": "python",
   "pygments_lexer": "ipython3",
   "version": "3.8.8"
  }
 },
 "nbformat": 4,
 "nbformat_minor": 1
}
